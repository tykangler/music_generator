{
 "cells": [
  {
   "cell_type": "markdown",
   "metadata": {},
   "source": [
    "# Generating music"
   ]
  },
  {
   "cell_type": "markdown",
   "metadata": {},
   "source": [
    "To generate music, I will use the **transformer** model, used by OpenAI in their GPT-2 model. In prior iterations, I had considered using RNNs with the seq2seq model. But after further research, I discovered that the transformer model can achieve better performance and accuracy, with the added benefit of parallelization, albeit at the cost of memory. "
   ]
  },
  {
   "cell_type": "code",
   "execution_count": 50,
   "metadata": {},
   "outputs": [],
   "source": [
    "import mido\n",
    "import os\n",
    "import math\n",
    "import csv\n",
    "import glob\n",
    "import matplotlib.pyplot as plt\n",
    "from itertools import chain, islice\n",
    "from functools import cmp_to_key\n",
    "from copy import deepcopy\n",
    "from fractions import Fraction\n",
    "import json\n",
    "import pprint\n",
    "import numpy as np\n",
    "from collections import namedtuple"
   ]
  },
  {
   "cell_type": "markdown",
   "metadata": {},
   "source": [
    "## Data Preparation"
   ]
  },
  {
   "cell_type": "code",
   "execution_count": 51,
   "metadata": {},
   "outputs": [],
   "source": [
    "DATA_DIR = '../../data'"
   ]
  },
  {
   "cell_type": "markdown",
   "metadata": {},
   "source": [
    "The Test Score: <br>\n",
    "<img height=800 width=600 src=\"https://imslp.org/images/8/8b/TN-Schumann%2C_Robert_Werke_Breitkopf_Gregg_Serie_7_Band_2_RS_51_Op_13_scan.jpg\"></img> <br>\n",
    "Robert Schumann,Symphonic Etudes Op. 13 (with Posthumous variations)\n"
   ]
  },
  {
   "cell_type": "code",
   "execution_count": 52,
   "metadata": {},
   "outputs": [],
   "source": [
    "# define function to play music\n",
    "TEST_FILE = f'{DATA_DIR}/maestro-v3.0.0/2018/MIDI-Unprocessed_Chamber2_MID--AUDIO_09_R3_2018_wav--1.midi'\n",
    "def play_midi(file_name=TEST_FILE):\n",
    "    os.startfile(os.path.abspath(file_name))"
   ]
  },
  {
   "cell_type": "code",
   "execution_count": 53,
   "metadata": {},
   "outputs": [],
   "source": [
    "relevant_msgs = { 'note_on', 'note_off', 'control_change'}\n",
    "\n",
    "is_note_on = lambda msg: msg.type == 'note_on' and msg.velocity > 0\n",
    "is_note_off = lambda msg: (msg.type == 'note_on' and msg.velocity == 0) or msg.type == 'note_off'\n",
    "is_relevant_msg = lambda msg: msg.type in relevant_msgs"
   ]
  },
  {
   "cell_type": "code",
   "execution_count": 54,
   "metadata": {},
   "outputs": [],
   "source": [
    "def get_pitch(note: int):\n",
    "    notes = ['C', 'C#', 'D', 'D#', 'E', 'F', 'F#', 'G', 'G#', 'A', 'A#', 'B']\n",
    "    return f\"{notes[note % 12]}{note // 12 - 1}\""
   ]
  },
  {
   "cell_type": "code",
   "execution_count": 55,
   "metadata": {},
   "outputs": [],
   "source": [
    "# make sure to iterate over tracks for correct deltatime value (ticks), otherwise deltatime is seconds. This is also faster.\n",
    "def print_messages(track, limit: int=0, *, transnote=None, transvelocity=None, transtime=None):\n",
    "    transnote = transnote or (lambda note: note) \n",
    "    transvelocity = transvelocity or (lambda velocity: velocity)\n",
    "    transtime = transtime or (lambda time: time)\n",
    "    track = islice(track, limit) if limit > 0 else track\n",
    "    for event in track:\n",
    "        if is_note_on(event):\n",
    "            note, velocity, time = transnote(event.note), transvelocity(event.velocity), transtime(event.time)\n",
    "            print(f'note_on channel={event.channel} note={note} velocity={velocity} time={time}')\n",
    "        elif is_note_off(event):\n",
    "            note, velocity, time = transnote(event.note), transvelocity(event.velocity), transtime(event.time)\n",
    "            print(f'note_off channel={event.channel} note={note} time={time}')\n",
    "        else:\n",
    "            print(event)"
   ]
  },
  {
   "cell_type": "code",
   "execution_count": 56,
   "metadata": {},
   "outputs": [
    {
     "name": "stdout",
     "output_type": "stream",
     "text": [
      "program_change channel=0 program=0 time=0\n",
      "control_change channel=0 control=64 value=99 time=0\n",
      "control_change channel=0 control=67 value=127 time=0\n",
      "control_change channel=0 control=67 value=126 time=46\n",
      "control_change channel=0 control=67 value=126 time=15\n",
      "control_change channel=0 control=67 value=126 time=212\n",
      "control_change channel=0 control=64 value=100 time=31\n",
      "note_on channel=0 note=81 velocity=54 time=290\n",
      "note_on channel=0 note=66 velocity=26 time=58\n",
      "note_on channel=0 note=62 velocity=32 time=8\n",
      "control_change channel=0 control=67 value=127 time=129\n",
      "control_change channel=0 control=64 value=99 time=47\n",
      "control_change channel=0 control=67 value=127 time=14\n",
      "control_change channel=0 control=64 value=99 time=77\n",
      "note_on channel=0 note=66 velocity=0 time=3\n",
      "note_on channel=0 note=69 velocity=30 time=3\n",
      "control_change channel=0 control=64 value=98 time=54\n",
      "control_change channel=0 control=64 value=98 time=54\n",
      "control_change channel=0 control=64 value=97 time=45\n",
      "note_on channel=0 note=69 velocity=0 time=16\n",
      "control_change channel=0 control=64 value=97 time=14\n",
      "control_change channel=0 control=64 value=96 time=15\n",
      "control_change channel=0 control=64 value=96 time=15\n",
      "note_on channel=0 note=66 velocity=39 time=13\n",
      "control_change channel=0 control=64 value=95 time=3\n",
      "control_change channel=0 control=64 value=95 time=15\n",
      "note_on channel=0 note=66 velocity=0 time=148\n",
      "note_on channel=0 note=69 velocity=40 time=11\n",
      "note_on channel=0 note=81 velocity=0 time=64\n",
      "note_on channel=0 note=69 velocity=0 time=7\n",
      "control_change channel=0 control=64 value=94 time=90\n",
      "note_on channel=0 note=66 velocity=31 time=31\n",
      "note_on channel=0 note=86 velocity=62 time=3\n",
      "control_change channel=0 control=64 value=94 time=133\n",
      "note_on channel=0 note=86 velocity=0 time=10\n",
      "note_on channel=0 note=81 velocity=69 time=15\n",
      "note_on channel=0 note=69 velocity=36 time=9\n",
      "note_on channel=0 note=66 velocity=0 time=11\n",
      "note_on channel=0 note=62 velocity=0 time=15\n",
      "control_change channel=0 control=64 value=93 time=16\n",
      "note_on channel=0 note=69 velocity=0 time=25\n",
      "control_change channel=0 control=64 value=92 time=44\n",
      "control_change channel=0 control=64 value=91 time=15\n",
      "control_change channel=0 control=64 value=87 time=15\n",
      "control_change channel=0 control=64 value=81 time=15\n",
      "control_change channel=0 control=64 value=74 time=15\n",
      "control_change channel=0 control=64 value=65 time=16\n",
      "note_on channel=0 note=62 velocity=26 time=2\n",
      "note_on channel=0 note=78 velocity=58 time=9\n",
      "control_change channel=0 control=64 value=51 time=4\n"
     ]
    }
   ],
   "source": [
    "schumann = mido.MidiFile(TEST_FILE)\n",
    "for event in islice(schumann.tracks[1], 50):\n",
    "    print(event)"
   ]
  },
  {
   "cell_type": "code",
   "execution_count": 57,
   "metadata": {},
   "outputs": [
    {
     "data": {
      "text/plain": [
       "384"
      ]
     },
     "execution_count": 57,
     "metadata": {},
     "output_type": "execute_result"
    }
   ],
   "source": [
    "schumann.ticks_per_beat"
   ]
  },
  {
   "cell_type": "code",
   "execution_count": 58,
   "metadata": {},
   "outputs": [
    {
     "name": "stdout",
     "output_type": "stream",
     "text": [
      "program_change channel=0 program=0 time=0\n",
      "control_change channel=0 control=64 value=99 time=0\n",
      "control_change channel=0 control=67 value=127 time=0\n",
      "control_change channel=0 control=67 value=126 time=46\n",
      "control_change channel=0 control=67 value=126 time=15\n",
      "control_change channel=0 control=67 value=126 time=212\n",
      "control_change channel=0 control=64 value=100 time=31\n",
      "note_on channel=0 note=A5 velocity=54 time=290\n",
      "note_on channel=0 note=F#4 velocity=26 time=58\n",
      "note_on channel=0 note=D4 velocity=32 time=8\n",
      "control_change channel=0 control=67 value=127 time=129\n",
      "control_change channel=0 control=64 value=99 time=47\n",
      "control_change channel=0 control=67 value=127 time=14\n",
      "control_change channel=0 control=64 value=99 time=77\n",
      "note_off channel=0 note=F#4 time=3\n",
      "note_on channel=0 note=A4 velocity=30 time=3\n",
      "control_change channel=0 control=64 value=98 time=54\n",
      "control_change channel=0 control=64 value=98 time=54\n",
      "control_change channel=0 control=64 value=97 time=45\n",
      "note_off channel=0 note=A4 time=16\n"
     ]
    }
   ],
   "source": [
    "print_messages(schumann.tracks[1], 20, transnote=get_pitch)"
   ]
  },
  {
   "cell_type": "markdown",
   "metadata": {},
   "source": [
    "### Converting Ticks to Beats\n",
    "\n",
    "Time attribute represents <deltatime\\>. <deltatime\\> is represented as number of ticks before playing the message. The number of ticks per beat is defined in the MThd chunk as <division\\>. (i.e. <division\\> = 96 means 96 ticks per beat). The number of microseconds per beat is defined as $500,000 \\frac{\\mu s}{beat}$, or can be set in the meta message 'set_tempo' in each track.\n",
    "\n",
    "So $time = 288$, $division = 384$, $tempo = 500,000$ equates to $\\frac{500,000}{384} * 288 = 375,000 \\mu s$\n",
    "\n",
    "This is the ticks between the first note_on (C#5) and the corresponding note off\n",
    "\n",
    "This is equivalent to .375 seconds, which is the deltatime value when using `midi.play()` or `iter(midi)`"
   ]
  },
  {
   "cell_type": "markdown",
   "metadata": {},
   "source": [
    "\n",
    "\n",
    " With $500,000 \\frac{\\mu s}{beat}$, BPM = 120. The denominator of the time signature tells what kind of note (quarter, eighth) is a beat. The numerator tells how many beats are in bar. With a time signature of 4/4, a beat is a quarter note. \n",
    "\n",
    "With $time = 288$, and $division = 384$, $288 \\ \\text{ticks} * \\frac{1}{384} \\frac{beat}{tick} = .75 \\ \\text{beats}$\n",
    "\n",
    "This is equal to $375,000 \\mu s * \\frac{1}{500000} \\frac{beat}{\\mu s} = .75 \\ \\text{beats}$.\n",
    "\n",
    "A time signature of 4 means $time = 288$ is .75 of a quarter note. However, from the image above, the first notes are quarter notes, not fractions of quarter notes, probably because the performance was played with a different BPM in mind (Andante, maybe 90), and not the one given in the midi file. \n"
   ]
  },
  {
   "cell_type": "markdown",
   "metadata": {},
   "source": [
    "### Quantization\n",
    "\n",
    "Quantize notes so that notes will have deltatime corrected to the nearest multiple of $\\epsilon$. A lower $\\epsilon$ means a higher frequency, but also more off-beats. A greater $\\epsilon$ means lower frequency, and more synchronization."
   ]
  },
  {
   "cell_type": "code",
   "execution_count": 59,
   "metadata": {},
   "outputs": [],
   "source": [
    "BEAT_RESOLUTION = 16"
   ]
  },
  {
   "cell_type": "code",
   "execution_count": 60,
   "metadata": {},
   "outputs": [],
   "source": [
    "def _nearest_mult(val, multiple):\n",
    "    temp = val + multiple / 2\n",
    "    return temp - temp % multiple\n",
    "\n",
    "def quantize(sequence, ticks_per_beat: int, resolution: int, seqlen: int=None) -> np.ndarray:\n",
    "    \"\"\"\n",
    "    takes in an iterable of integers and snaps values to the nearest resolution multiple,\n",
    "    so that each value is replaced with an integer in the range [0, resolution)\n",
    "    params:\n",
    "      sequence: sequence of midi message objects to quantize\n",
    "      ticks_per_beat: ticks per beat as given in midi metadata\n",
    "      resolution: desired quantization resolution\n",
    "      key: optional callable to be called on each element in the sequence before binning\n",
    "    returns:\n",
    "      sequence of integers with original values snapped to nearest multiple\n",
    "    \"\"\"\n",
    "    seqlen = len(sequence) if seqlen is None else seqlen\n",
    "    tick_res = ticks_per_beat / resolution\n",
    "\n",
    "    quantized = (int(_nearest_mult(val, tick_res)) for val in sequence)\n",
    "    return np.fromiter(quantized, dtype=np.int32, count=seqlen)"
   ]
  },
  {
   "cell_type": "code",
   "execution_count": 61,
   "metadata": {},
   "outputs": [
    {
     "name": "stdout",
     "output_type": "stream",
     "text": [
      "program_change channel=0 program=0 time=0\n",
      "control_change channel=0 control=64 value=99 time=0\n",
      "control_change channel=0 control=67 value=127 time=0\n",
      "control_change channel=0 control=67 value=126 time=48\n",
      "control_change channel=0 control=67 value=126 time=24\n",
      "control_change channel=0 control=67 value=126 time=216\n",
      "control_change channel=0 control=64 value=100 time=24\n",
      "note_on channel=0 note=A5 velocity=54 time=288\n",
      "note_on channel=0 note=F#4 velocity=26 time=48\n",
      "note_on channel=0 note=D4 velocity=32 time=0\n",
      "control_change channel=0 control=67 value=127 time=120\n",
      "control_change channel=0 control=64 value=99 time=48\n",
      "control_change channel=0 control=67 value=127 time=24\n",
      "control_change channel=0 control=64 value=99 time=72\n",
      "note_off channel=0 note=F#4 time=0\n",
      "note_on channel=0 note=A4 velocity=30 time=0\n",
      "control_change channel=0 control=64 value=98 time=48\n",
      "control_change channel=0 control=64 value=98 time=48\n",
      "control_change channel=0 control=64 value=97 time=48\n",
      "note_off channel=0 note=A4 time=24\n"
     ]
    }
   ],
   "source": [
    "relevant_schumann = [msg for msg in schumann.tracks[1] if not msg.is_meta]\n",
    "quantized = quantize(list(map(lambda msg: msg.time, relevant_schumann)), \n",
    "                     resolution=BEAT_RESOLUTION, \n",
    "                     ticks_per_beat=schumann.ticks_per_beat)\n",
    "quantized_schumann = [msg.copy(time=new_time) for msg, new_time in zip(relevant_schumann, quantized)]\n",
    "print_messages(quantized_schumann, 20, transnote=get_pitch)"
   ]
  },
  {
   "cell_type": "code",
   "execution_count": 62,
   "metadata": {},
   "outputs": [
    {
     "data": {
      "text/plain": [
       "<midi file '../../data/maestro-v3.0.0/2018/MIDI-Unprocessed_Chamber2_MID--AUDIO_09_R3_2018_wav--1.midi' type 1, 2 tracks, 20827 messages>"
      ]
     },
     "execution_count": 62,
     "metadata": {},
     "output_type": "execute_result"
    }
   ],
   "source": [
    "schumann_copy = deepcopy(schumann)\n",
    "schumann_copy.tracks[1] = mido.MidiTrack(quantized_schumann)\n",
    "schumann_copy"
   ]
  },
  {
   "cell_type": "code",
   "execution_count": 63,
   "metadata": {},
   "outputs": [],
   "source": [
    "schumann_copy.save('schumann.midi')"
   ]
  },
  {
   "cell_type": "markdown",
   "metadata": {},
   "source": [
    "## Data Characteristics"
   ]
  },
  {
   "cell_type": "code",
   "execution_count": 64,
   "metadata": {},
   "outputs": [],
   "source": [
    "MidiHeader = namedtuple('MidiHeader', ['format', 'ntrks', 'division'])"
   ]
  },
  {
   "cell_type": "code",
   "execution_count": 83,
   "metadata": {},
   "outputs": [],
   "source": [
    "MTHD_MTRK = 4\n",
    "CHUNK_LEN = 4\n",
    "MTHD_DATA = 6\n",
    "\n",
    "def get_header_data(midi_bytes: bytes):\n",
    "    midi_bytes = midi_bytes[(MTHD_MTRK + MTHD_LEN):]\n",
    "    midi_format = int.from_bytes(midi_bytes[0:2], 'big')\n",
    "    midi_ntrks = int.from_bytes(midi_bytes[2:4], 'big')\n",
    "    midi_division = int.from_bytes(midi_bytes[4:6], 'big')\n",
    "    return MidiHeader(midi_format, midi_ntrks, midi_division)"
   ]
  },
  {
   "cell_type": "code",
   "execution_count": 84,
   "metadata": {},
   "outputs": [],
   "source": [
    "midi_filenames = glob.glob(f'{DATA_DIR}/maestro-v3.0.0/[0-9]*/*')\n",
    "raw_midi = []\n",
    "for filename in midi_filenames:\n",
    "    with open(filename, 'rb') as midi_fp:\n",
    "        raw_midi.append(midi_fp.read())"
   ]
  },
  {
   "cell_type": "code",
   "execution_count": 85,
   "metadata": {},
   "outputs": [],
   "source": [
    "midi_headers = [get_header_data(midi_data) for midi_data in raw_midi]"
   ]
  },
  {
   "cell_type": "code",
   "execution_count": 86,
   "metadata": {},
   "outputs": [],
   "source": [
    "msg_lengths = [len(mido.MidiFile(filename).tracks[1]) for filename in glob.glob(f'{DATA_DIR}/maestro-v3.0.0/[0-9]*/*')]"
   ]
  },
  {
   "cell_type": "code",
   "execution_count": 90,
   "metadata": {},
   "outputs": [
    {
     "name": "stdout",
     "output_type": "stream",
     "text": [
      "\n",
      "all same format: True\n",
      "all same ntrks: True\n",
      "\n"
     ]
    }
   ],
   "source": [
    "print(f\"\"\"\n",
    "all same format: {all(header.format == midi_headers[0].format for header in midi_headers)}\n",
    "all same ntrks: {all(header.ntrks == midi_headers[0].ntrks for header in midi_headers)}\n",
    "\"\"\")"
   ]
  },
  {
   "cell_type": "code",
   "execution_count": 89,
   "metadata": {},
   "outputs": [
    {
     "name": "stdout",
     "output_type": "stream",
     "text": [
      "\n",
      "min: 924\n",
      "max: 123539\n",
      "25% quantile: 8281.25\n",
      "median: 15208.0\n",
      "75% quantile: 24962.75\n",
      "average: 19799.486677115987\n",
      "\n"
     ]
    },
    {
     "data": {
      "image/png": "[encoded data removed]",
      "text/plain": [
       "<Figure size 720x720 with 2 Axes>"
      ]
     },
     "metadata": {
      "needs_background": "light"
     },
     "output_type": "display_data"
    }
   ],
   "source": [
    "stats = f\"\"\"\n",
    "min: {np.amin(msg_lengths)}\n",
    "max: {np.amax(msg_lengths)}\n",
    "25% quantile: {np.quantile(msg_lengths, 0.25)}\n",
    "median: {np.quantile(msg_lengths, 0.5)}\n",
    "75% quantile: {np.quantile(msg_lengths, 0.75)}\n",
    "average: {np.mean(msg_lengths)}\n",
    "\"\"\"\n",
    "print(stats)\n",
    "fig, (ax1, ax2) = plt.subplots(2, figsize=(10, 10))\n",
    "ax1.scatter(*zip(*enumerate(msg_lengths)))\n",
    "ax1.set_xlabel(\"file no.\")\n",
    "ax1.set_ylabel(\"number messages\")\n",
    "ax2.hist(msg_lengths)\n",
    "ax2.set_xlabel(\"number messages\")\n",
    "ax2.set_ylabel(\"frequency\")\n",
    "plt.show()"
   ]
  },
  {
   "cell_type": "markdown",
   "metadata": {},
   "source": [
    "This will help in finding how to split training data for input and target sequences. Should I split at an arbitrary number of elements, or do a percentage split with padding to ensure both inputs and targets get adequate representation?"
   ]
  },
  {
   "cell_type": "markdown",
   "metadata": {},
   "source": [
    "Because the minimum number of messages is ~900, I have to make sure that the straight split method reserves less than 900 for the input sequence, so that there is enough target data. "
   ]
  },
  {
   "cell_type": "markdown",
   "metadata": {},
   "source": [
    "I believe that an input size of slightly less than 900 will be fine for input length."
   ]
  },
  {
   "cell_type": "markdown",
   "metadata": {},
   "source": [
    "## Moving Away from Midi"
   ]
  },
  {
   "cell_type": "code",
   "execution_count": null,
   "metadata": {},
   "outputs": [],
   "source": [
    "def rest(beats: int):\n",
    "    return f'rest_b:{beats}'\n",
    "\n",
    "def note(pitch: int, velocity: int, instrument: str='piano'):\n",
    "    return f'note_p:{pitch}_v:{velocity}_i:{instrument}'\n",
    "\n",
    "def control(control: int, value: int):\n",
    "    return f'control_c:{control}_v:{value}'\n",
    "\n",
    "MESSAGE_REF = {\n",
    "  'note_on': note,\n",
    "  'note_off': note,\n",
    "  'control_change': control\n",
    "}\n",
    "\n",
    "def _get_message(msg):\n",
    "    \"\"\"\n",
    "    constructs simple two byte messages (Control and Note). Doesn't \n",
    "    handle instruments. Doesn't handle note offs with non zero velocity\n",
    "    \"\"\"\n",
    "    msg_data = msg.bytes()[1:]\n",
    "    if msg.type == 'note_off':\n",
    "        msg_data[-1] = 0\n",
    "    msg_obj = MESSAGE_REF.get(msg.type, None)\n",
    "    return msg_obj(*msg_data) if msg_obj is not None else msg_obj"
   ]
  },
  {
   "cell_type": "markdown",
   "metadata": {},
   "source": [
    "### Converting to Notes"
   ]
  },
  {
   "cell_type": "code",
   "execution_count": null,
   "metadata": {},
   "outputs": [],
   "source": [
    "def gen_messages(track, tick_per_beat, resolution):\n",
    "    accum_time = 0\n",
    "    for msg in track:\n",
    "        accum_time += msg.time\n",
    "        msg_obj = _get_message(msg)\n",
    "        if msg_obj is not None:\n",
    "            accum_beats = int(accum_time * resolution / tick_per_beat) # this eq can be factored into quantize method\n",
    "            excess_beats = accum_beats % resolution\n",
    "            for i in range(accum_beats // resolution):\n",
    "                yield rest(resolution)\n",
    "            if excess_beats != 0:\n",
    "                yield rest(excess_beats)\n",
    "            accum_time = 0\n",
    "            yield msg_obj\n",
    "\n",
    "def to_beats(track, tick_per_beat, resolution):\n",
    "    return list(gen_messages(track, tick_per_beat, resolution))"
   ]
  },
  {
   "cell_type": "code",
   "execution_count": null,
   "metadata": {},
   "outputs": [],
   "source": [
    "relevant_schumann_copy = [msg for msg in schumann_copy.tracks[1] if is_relevant_msg(msg)]\n",
    "schumann_seq = to_beats(track=relevant_schumann_copy, resolution=16, tick_per_beat=schumann_copy.ticks_per_beat)\n",
    "schumann_seq[:30]"
   ]
  },
  {
   "cell_type": "markdown",
   "metadata": {},
   "source": [
    "The first value in each tuple represents the number of beats for that note is played. Because notes were quantized with a 64th note resolution and beats set to quarter notes, each note will have a time that is some multiple of $\\frac{1}{16}$. \n",
    "\n",
    "> When quantizing, each tick value was adjusted so that $$\\text{ticks}' = x * \\frac{\\text{ticks_per_beat}}{\\text{resolution}}$$When converting to beats, $\\text{ticks}'$ is divided by ticks_per_beat. $$\\text{beats} = \\frac{\\text{ticks}'}{\\text{ticks_per_beat}} = x * \\frac{\\text{ticks_per_beat}}{\\text{resolution} * \\text{ticks_per_beat}} = x * \\frac{1}{\\text{resolution}}$$"
   ]
  },
  {
   "cell_type": "markdown",
   "metadata": {},
   "source": [
    "Using this approach, we will have 16 waits defined in the vocabulary (wait:[1-16]). Waits longer than 1 beat will be recorded as (wait:16, wait:n). However, a constant resolution needs to be set for all songs. Test quantizing a faster song."
   ]
  },
  {
   "cell_type": "markdown",
   "metadata": {},
   "source": [
    "### Binning velocities"
   ]
  },
  {
   "cell_type": "code",
   "execution_count": null,
   "metadata": {},
   "outputs": [],
   "source": [
    "def _get_bin(value, bin_size: int, max_val: int, min_val: int) -> int:\n",
    "    if value >= max_val:\n",
    "        return bin_size + 1\n",
    "    elif value < min_val:\n",
    "        return 0\n",
    "    else:\n",
    "        return int((value - min_val) // bin_size) + 1\n",
    "\n",
    "def bin_seq(sequence, num_bins: int, max_val: int, min_val: int, seqlen: int=None) -> np.ndarray:\n",
    "    \"\"\"\n",
    "    takes in an iterable of numbers and assigns an integer label corresponding to the bin it falls\n",
    "    in. Values greater than max_val are given a bin label of num_bins + 1, and values below min_val\n",
    "    are given bin label 0.\n",
    "    \"\"\"\n",
    "    bin_size = (max_val - min_val) / num_bins\n",
    "    seqlen = len(sequence) if seqlen is None else seqlen\n",
    "\n",
    "    binned = (_get_bin(val, bin_size, max_val, min_val) for val in sequence)\n",
    "    return np.fromiter(binned, dtype=np.int32, count=seqlen)"
   ]
  },
  {
   "cell_type": "code",
   "execution_count": null,
   "metadata": {},
   "outputs": [],
   "source": [
    "NUM_BINS = 32\n",
    "MAX_VAL = 128\n",
    "MIN_VAL = 1\n",
    "BIN_SIZE = (MAX_VAL - MIN_VAL) / NUM_BINS\n",
    "all_bins = [f'[{(i * BIN_SIZE) + MIN_VAL}, {(i * BIN_SIZE) + MIN_VAL + BIN_SIZE})' for i in range(32)]\n",
    "schumann_to_bin = [msg for msg in relevant_schumann_copy if msg.type == 'note_on']\n",
    "binned_schumann = bin_seq([msg.velocity for msg in schumann_to_bin], NUM_BINS, MAX_VAL, MIN_VAL)\n",
    "zipped = zip(binned_schumann[:30], schumann_to_bin[:30])\n",
    "print(f'max_val: {MAX_VAL}')\n",
    "print(f'min_val: {MIN_VAL}')\n",
    "print(f'num_bins: {NUM_BINS}')\n",
    "print(f'bin_size: {BIN_SIZE}')\n",
    "print('all_bins:')\n",
    "for idx, row in enumerate(all_bins):\n",
    "    print(f'\\t{idx + 1}: {row}')\n",
    "for row in zipped:\n",
    "    print(row)"
   ]
  },
  {
   "cell_type": "markdown",
   "metadata": {},
   "source": [
    "## Vocabulary"
   ]
  },
  {
   "cell_type": "markdown",
   "metadata": {},
   "source": [
    "The full vocabulary will consist of 16 waits (or any power of 2 depending on what resolution I go with), and 128 notes, each with 32 volume levels, each with 6 instruments. A total size of 24,592.\n",
    "\n",
    "Volumes will be binned for less noise, and to account for variability in performances.\n",
    "\n",
    "For now I'll just stick with piano, so 88 notes (A0-C8), 32 volumes, 1 instrument, 16 waits. A total size of 2832. "
   ]
  },
  {
   "cell_type": "markdown",
   "metadata": {},
   "source": [
    "## Metadata + Features"
   ]
  },
  {
   "cell_type": "markdown",
   "metadata": {},
   "source": [
    "### Additional Features\n",
    "\n",
    "Aside from the vocabulary, I will train the model with the following features:\n",
    "\n",
    "- [x] composer\n",
    "- ~~key signature~~ (data not available)\n",
    "- [x] tempo\n",
    "- [x] time period/style\n"
   ]
  },
  {
   "cell_type": "code",
   "execution_count": null,
   "metadata": {},
   "outputs": [],
   "source": [
    "with open(f'{DATA_DIR}/maestro-v3.0.0/maestro-v3.0.0.csv', encoding='utf-8') as csvfile:\n",
    "    reader = list(csv.DictReader(csvfile))"
   ]
  },
  {
   "cell_type": "code",
   "execution_count": null,
   "metadata": {},
   "outputs": [],
   "source": [
    "with open(f'{DATA_DIR}/metadata/composers.json') as composer_file:\n",
    "    composers = json.load(composer_file)"
   ]
  },
  {
   "cell_type": "markdown",
   "metadata": {},
   "source": [
    "For composer searching, I will need to clean up the csv file to make sure that composer names match up with the names given in the composers file."
   ]
  },
  {
   "cell_type": "markdown",
   "metadata": {},
   "source": [
    "### Epoch"
   ]
  },
  {
   "cell_type": "code",
   "execution_count": null,
   "metadata": {},
   "outputs": [],
   "source": [
    "def epoch(complete_name: str):\n",
    "    result = [composer for composer in composers if composer['complete_name'].lower() == complete_name.lower()]\n",
    "    if len(result) > 0:\n",
    "        return result[0]['epoch']\n",
    "    return None"
   ]
  },
  {
   "cell_type": "code",
   "execution_count": null,
   "metadata": {},
   "outputs": [],
   "source": [
    "epoch('Leoš Janáček')"
   ]
  },
  {
   "cell_type": "markdown",
   "metadata": {},
   "source": [
    "### Composers"
   ]
  },
  {
   "cell_type": "code",
   "execution_count": null,
   "metadata": {},
   "outputs": [],
   "source": [
    "# Unique Composers\n",
    "unique_composers = set()\n",
    "for row in reader:\n",
    "    unique_composers.add(row['canonical_composer'])\n",
    "unique_composers"
   ]
  },
  {
   "cell_type": "markdown",
   "metadata": {},
   "source": [
    "There is a possibility of multiple composers. When this happens, choose the more common composer."
   ]
  },
  {
   "cell_type": "markdown",
   "metadata": {},
   "source": [
    "### CSV and Composer Cross Reference"
   ]
  },
  {
   "cell_type": "code",
   "execution_count": null,
   "metadata": {},
   "outputs": [],
   "source": [
    "composers_both_present = dict()\n",
    "for u_composer in unique_composers:\n",
    "    split_composers = u_composer.split(' / ')\n",
    "    for comp_name in split_composers:\n",
    "        comp_entry = [entry for entry in composers if entry['complete_name'] == comp_name]\n",
    "        comp_entry = comp_entry[0] if len(comp_entry) > 0 else None\n",
    "        composers_both_present[comp_name] = comp_entry\n",
    "pprint.pprint(composers_both_present)"
   ]
  },
  {
   "cell_type": "code",
   "execution_count": null,
   "metadata": {},
   "outputs": [],
   "source": [
    "composers_not_present = [entry for entry in composers_both_present if composers_both_present[entry] is None]\n",
    "print(f\"Number not found in composer file: {len(composers_not_present)}\")\n",
    "composers_not_present"
   ]
  },
  {
   "cell_type": "markdown",
   "metadata": {},
   "source": [
    "Some of these are surprising. For example Joseph Haydn is a very famous classical composer. Upon looking at the composers.json file, we can see that the names differ. Joseph Haydn is Joseph Franz Haydn in the composers.json file."
   ]
  },
  {
   "cell_type": "code",
   "execution_count": null,
   "metadata": {},
   "outputs": [],
   "source": [
    "approximate_composer_matches = dict()\n",
    "for not_present in composers_not_present:\n",
    "    last_name = not_present.split()[-1]\n",
    "    comp_entry = [entry for entry in composers if last_name in entry['complete_name']]\n",
    "    comp_entry = comp_entry[0] if len(comp_entry) > 0 else None\n",
    "    approximate_composer_matches[not_present] = comp_entry\n",
    "pprint.pprint(approximate_composer_matches)\n",
    "print('\\n')\n",
    "print(f'composers still not present: {sorted([comp_name for comp_name, entry in approximate_composer_matches.items() if entry is None])}')"
   ]
  },
  {
   "cell_type": "markdown",
   "metadata": {},
   "source": [
    "At the end of it all, there's still some missing composers, which we'll just label as 'Other.'"
   ]
  },
  {
   "cell_type": "markdown",
   "metadata": {},
   "source": [
    "Let's also see some more metrics about composer **last names** in the `composers.json` file."
   ]
  },
  {
   "cell_type": "code",
   "execution_count": null,
   "metadata": {},
   "outputs": [],
   "source": [
    "unique_composers_in_json = set(comp['name'] for comp in composers)\n",
    "all_lastnames_single_word = all(len(comp['name'].split()) == 0 for comp in composers)\n",
    "print(f'All unique last names: {len(unique_composers_in_json) == len(composers)}')\n",
    "print(f'All last names single word: {all_lastnames_single_word}')"
   ]
  },
  {
   "cell_type": "markdown",
   "metadata": {},
   "source": [
    "Which last names aren't a single word?"
   ]
  },
  {
   "cell_type": "code",
   "execution_count": null,
   "metadata": {},
   "outputs": [],
   "source": [
    "lastnames_multi_words = [comp['name'] for comp in composers if comp['name'].count(' ') != 0]\n",
    "print(f'last names not single word: {lastnames_multi_words}')"
   ]
  },
  {
   "cell_type": "markdown",
   "metadata": {},
   "source": [
    "## Test playback"
   ]
  },
  {
   "cell_type": "code",
   "execution_count": null,
   "metadata": {},
   "outputs": [],
   "source": [
    "# Test playback original\n",
    "play_midi()"
   ]
  },
  {
   "cell_type": "code",
   "execution_count": null,
   "metadata": {},
   "outputs": [],
   "source": [
    "# Test playback quantized\n",
    "play_midi('schumann.midi')"
   ]
  }
 ],
 "metadata": {
  "kernelspec": {
   "display_name": "bard",
   "language": "python",
   "name": "bard"
  },
  "language_info": {
   "codemirror_mode": {
    "name": "ipython",
    "version": 3
   },
   "file_extension": ".py",
   "mimetype": "text/x-python",
   "name": "python",
   "nbconvert_exporter": "python",
   "pygments_lexer": "ipython3",
   "version": "3.8.6"
  }
 },
 "nbformat": 4,
 "nbformat_minor": 4
}
