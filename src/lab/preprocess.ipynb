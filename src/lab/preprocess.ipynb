{
 "cells": [
  {
   "cell_type": "markdown",
   "metadata": {},
   "source": [
    "# Generating music"
   ]
  },
  {
   "cell_type": "markdown",
   "metadata": {},
   "source": [
    "To generate music, I will use the **transformer** model, used by OpenAI in their GPT-2 model. In prior iterations, I had considered using RNNs with the seq2seq model. But after further research, I discovered that the transformer model can achieve better performance and accuracy, with the added benefit of parallelization, albeit at the cost of memory. "
   ]
  },
  {
   "cell_type": "code",
   "execution_count": 1,
   "metadata": {},
   "outputs": [],
   "source": [
    "import mido\n",
    "import os\n",
    "import math\n",
    "import csv\n",
    "import matplotlib.pyplot as plt\n",
    "from itertools import chain, islice\n",
    "from functools import cmp_to_key\n",
    "from copy import deepcopy\n",
    "from fractions import Fraction\n",
    "import json\n",
    "import pprint\n",
    "import numpy as np"
   ]
  },
  {
   "cell_type": "markdown",
   "metadata": {},
   "source": [
    "## Data Preparation"
   ]
  },
  {
   "cell_type": "code",
   "execution_count": 2,
   "metadata": {},
   "outputs": [],
   "source": [
    "DATA_DIR = '../../data'"
   ]
  },
  {
   "cell_type": "markdown",
   "metadata": {},
   "source": [
    "The Test Score: <br>\n",
    "<img height=800 width=600 src=\"https://imslp.org/images/8/8b/TN-Schumann%2C_Robert_Werke_Breitkopf_Gregg_Serie_7_Band_2_RS_51_Op_13_scan.jpg\"></img> <br>\n",
    "Robert Schumann,Symphonic Etudes Op. 13 (with Posthumous variations)\n"
   ]
  },
  {
   "cell_type": "code",
   "execution_count": 3,
   "metadata": {},
   "outputs": [],
   "source": [
    "# define function to play music\n",
    "TEST_FILE = f'{DATA_DIR}/maestro-v3.0.0/2018/MIDI-Unprocessed_Recital20_MID--AUDIO_20_R1_2018_wav--4.midi'\n",
    "def play_midi(file_name=TEST_FILE):\n",
    "    os.startfile(os.path.abspath(file_name))"
   ]
  },
  {
   "cell_type": "code",
   "execution_count": 4,
   "metadata": {},
   "outputs": [],
   "source": [
    "relevant_msgs = { 'note_on', 'note_off', 'control_change'}\n",
    "\n",
    "is_note_on = lambda msg: msg.type == 'note_on' and msg.velocity > 0\n",
    "is_note_off = lambda msg: (msg.type == 'note_on' and msg.velocity == 0) or msg.type == 'note_off'\n",
    "is_relevant_msg = lambda msg: msg.type in relevant_msgs"
   ]
  },
  {
   "cell_type": "code",
   "execution_count": 5,
   "metadata": {},
   "outputs": [],
   "source": [
    "def get_pitch(note: int):\n",
    "    notes = ['C', 'C#', 'D', 'D#', 'E', 'F', 'F#', 'G', 'G#', 'A', 'A#', 'B']\n",
    "    return f\"{notes[note % 12]}{note // 12 - 1}\""
   ]
  },
  {
   "cell_type": "code",
   "execution_count": 6,
   "metadata": {},
   "outputs": [],
   "source": [
    "# make sure to iterate over tracks for correct deltatime value (ticks), otherwise deltatime is seconds. This is also faster.\n",
    "def print_messages(track, limit: int=0, *, transnote=None, transvelocity=None, transtime=None):\n",
    "    transnote = transnote or (lambda note: note) \n",
    "    transvelocity = transvelocity or (lambda velocity: velocity)\n",
    "    transtime = transtime or (lambda time: time)\n",
    "    track = islice(track, limit) if limit > 0 else track\n",
    "    for event in track:\n",
    "        if is_note_on(event):\n",
    "            note, velocity, time = transnote(event.note), transvelocity(event.velocity), transtime(event.time)\n",
    "            print(f'note_on channel={event.channel} note={note} velocity={velocity} time={time}')\n",
    "        elif is_note_off(event):\n",
    "            note, velocity, time = transnote(event.note), transvelocity(event.velocity), transtime(event.time)\n",
    "            print(f'note_off channel={event.channel} note={note} time={time}')\n",
    "        else:\n",
    "            print(event)"
   ]
  },
  {
   "cell_type": "code",
   "execution_count": 7,
   "metadata": {},
   "outputs": [
    {
     "name": "stdout",
     "output_type": "stream",
     "text": [
      "<meta message track_name name='contestant 20' time=0>\n",
      "program_change channel=0 program=0 time=0\n",
      "control_change channel=0 control=64 value=127 time=0\n",
      "control_change channel=0 control=67 value=0 time=0\n",
      "note_on channel=0 note=73 velocity=64 time=775\n",
      "note_on channel=0 note=64 velocity=41 time=41\n",
      "note_on channel=0 note=68 velocity=46 time=4\n",
      "note_on channel=0 note=37 velocity=39 time=8\n",
      "note_on channel=0 note=61 velocity=35 time=9\n",
      "note_on channel=0 note=44 velocity=30 time=8\n",
      "note_on channel=0 note=73 velocity=0 time=222\n",
      "note_on channel=0 note=68 velocity=0 time=45\n",
      "note_on channel=0 note=64 velocity=0 time=31\n",
      "note_on channel=0 note=61 velocity=0 time=113\n",
      "note_on channel=0 note=68 velocity=67 time=365\n",
      "note_on channel=0 note=56 velocity=45 time=28\n",
      "note_on channel=0 note=64 velocity=44 time=1\n",
      "note_on channel=0 note=61 velocity=44 time=14\n",
      "note_on channel=0 note=68 velocity=0 time=252\n",
      "note_on channel=0 note=64 velocity=0 time=50\n",
      "note_on channel=0 note=61 velocity=0 time=129\n",
      "note_on channel=0 note=56 velocity=0 time=112\n",
      "note_on channel=0 note=64 velocity=67 time=236\n",
      "note_on channel=0 note=52 velocity=46 time=32\n",
      "note_on channel=0 note=61 velocity=48 time=9\n",
      "note_on channel=0 note=56 velocity=36 time=2\n",
      "control_change channel=0 control=64 value=106 time=36\n",
      "control_change channel=0 control=64 value=92 time=15\n",
      "control_change channel=0 control=64 value=84 time=15\n",
      "control_change channel=0 control=64 value=81 time=16\n",
      "control_change channel=0 control=64 value=82 time=15\n",
      "control_change channel=0 control=64 value=84 time=15\n",
      "control_change channel=0 control=64 value=86 time=15\n",
      "control_change channel=0 control=64 value=91 time=15\n",
      "control_change channel=0 control=64 value=99 time=16\n",
      "control_change channel=0 control=64 value=111 time=15\n",
      "control_change channel=0 control=64 value=127 time=15\n",
      "note_on channel=0 note=64 velocity=0 time=132\n",
      "note_on channel=0 note=56 velocity=0 time=9\n",
      "note_on channel=0 note=61 velocity=0 time=56\n",
      "note_on channel=0 note=52 velocity=0 time=323\n",
      "note_on channel=0 note=61 velocity=66 time=108\n",
      "note_on channel=0 note=56 velocity=39 time=48\n",
      "note_on channel=0 note=52 velocity=36 time=6\n",
      "note_on channel=0 note=49 velocity=33 time=5\n",
      "note_on channel=0 note=44 velocity=0 time=91\n",
      "note_on channel=0 note=37 velocity=0 time=36\n",
      "note_on channel=0 note=49 velocity=0 time=48\n",
      "note_on channel=0 note=52 velocity=0 time=57\n",
      "note_on channel=0 note=56 velocity=0 time=54\n"
     ]
    }
   ],
   "source": [
    "schumann = mido.MidiFile(TEST_FILE)\n",
    "for event in islice(schumann.tracks[1], 50):\n",
    "    print(event)"
   ]
  },
  {
   "cell_type": "code",
   "execution_count": 8,
   "metadata": {},
   "outputs": [
    {
     "data": {
      "text/plain": [
       "384"
      ]
     },
     "execution_count": 8,
     "metadata": {},
     "output_type": "execute_result"
    }
   ],
   "source": [
    "schumann.ticks_per_beat"
   ]
  },
  {
   "cell_type": "code",
   "execution_count": 9,
   "metadata": {},
   "outputs": [
    {
     "name": "stdout",
     "output_type": "stream",
     "text": [
      "<meta message track_name name='contestant 20' time=0>\n",
      "program_change channel=0 program=0 time=0\n",
      "control_change channel=0 control=64 value=127 time=0\n",
      "control_change channel=0 control=67 value=0 time=0\n",
      "note_on channel=0 note=C#5 velocity=64 time=775\n",
      "note_on channel=0 note=E4 velocity=41 time=41\n",
      "note_on channel=0 note=G#4 velocity=46 time=4\n",
      "note_on channel=0 note=C#2 velocity=39 time=8\n",
      "note_on channel=0 note=C#4 velocity=35 time=9\n",
      "note_on channel=0 note=G#2 velocity=30 time=8\n",
      "note_off channel=0 note=C#5 time=222\n",
      "note_off channel=0 note=G#4 time=45\n",
      "note_off channel=0 note=E4 time=31\n",
      "note_off channel=0 note=C#4 time=113\n",
      "note_on channel=0 note=G#4 velocity=67 time=365\n",
      "note_on channel=0 note=G#3 velocity=45 time=28\n",
      "note_on channel=0 note=E4 velocity=44 time=1\n",
      "note_on channel=0 note=C#4 velocity=44 time=14\n",
      "note_off channel=0 note=G#4 time=252\n",
      "note_off channel=0 note=E4 time=50\n"
     ]
    }
   ],
   "source": [
    "print_messages(schumann.tracks[1], 20, transnote=get_pitch)"
   ]
  },
  {
   "cell_type": "markdown",
   "metadata": {},
   "source": [
    "### Converting Ticks to Beats\n",
    "\n",
    "Time attribute represents <deltatime\\>. <deltatime\\> is represented as number of ticks before playing the message. The number of ticks per beat is defined in the MThd chunk as <division\\>. (i.e. <division\\> = 96 means 96 ticks per beat). The number of microseconds per beat is defined as $500,000 \\frac{\\mu s}{beat}$, or can be set in the meta message 'set_tempo' in each track.\n",
    "\n",
    "So $time = 288$, $division = 384$, $tempo = 500,000$ equates to $\\frac{500,000}{384} * 288 = 375,000 \\mu s$\n",
    "\n",
    "This is the ticks between the first note_on (C#5) and the corresponding note off\n",
    "\n",
    "This is equivalent to .375 seconds, which is the deltatime value when using `midi.play()` or `iter(midi)`"
   ]
  },
  {
   "cell_type": "markdown",
   "metadata": {},
   "source": [
    "\n",
    "\n",
    " With $500,000 \\frac{\\mu s}{beat}$, BPM = 120. The denominator of the time signature tells what kind of note (quarter, eighth) is a beat. The numerator tells how many beats are in bar. With a time signature of 4/4, a beat is a quarter note. \n",
    "\n",
    "With $time = 288$, and $division = 384$, $288 \\ \\text{ticks} * \\frac{1}{384} \\frac{beat}{tick} = .75 \\ \\text{beats}$\n",
    "\n",
    "This is equal to $375,000 \\mu s * \\frac{1}{500000} \\frac{beat}{\\mu s} = .75 \\ \\text{beats}$.\n",
    "\n",
    "A time signature of 4 means $time = 288$ is .75 of a quarter note. However, from the image above, the first notes are quarter notes, not fractions of quarter notes, probably because the performance was played with a different BPM in mind (Andante, maybe 90), and not the one given in the midi file. \n"
   ]
  },
  {
   "cell_type": "markdown",
   "metadata": {},
   "source": [
    "### Quantization\n",
    "\n",
    "Quantize notes so that notes will have deltatime corrected to the nearest multiple of $\\epsilon$. A lower $\\epsilon$ means a higher frequency, but also more off-beats. A greater $\\epsilon$ means lower frequency, and more synchronization."
   ]
  },
  {
   "cell_type": "code",
   "execution_count": 10,
   "metadata": {},
   "outputs": [],
   "source": [
    "BEAT_RESOLUTION = 16"
   ]
  },
  {
   "cell_type": "code",
   "execution_count": 11,
   "metadata": {},
   "outputs": [],
   "source": [
    "def _nearest_mult(val, multiple):\n",
    "    temp = val + multiple / 2\n",
    "    return temp - temp % multiple\n",
    "\n",
    "def quantize(sequence, ticks_per_beat: int, resolution: int, seqlen: int=None) -> np.ndarray:\n",
    "    \"\"\"\n",
    "    takes in an iterable of integers and snaps values to the nearest resolution multiple,\n",
    "    so that each value is replaced with an integer in the range [0, resolution)\n",
    "    params:\n",
    "      sequence: sequence of midi message objects to quantize\n",
    "      ticks_per_beat: ticks per beat as given in midi metadata\n",
    "      resolution: desired quantization resolution\n",
    "      key: optional callable to be called on each element in the sequence before binning\n",
    "    returns:\n",
    "      sequence of integers with original values snapped to nearest multiple\n",
    "    \"\"\"\n",
    "    seqlen = len(sequence) if seqlen is None else seqlen\n",
    "    tick_res = ticks_per_beat / resolution\n",
    "\n",
    "    quantized = (int(_nearest_mult(val, tick_res)) for val in sequence)\n",
    "    return np.fromiter(quantized, dtype=np.int32, count=seqlen)"
   ]
  },
  {
   "cell_type": "code",
   "execution_count": 12,
   "metadata": {},
   "outputs": [
    {
     "name": "stdout",
     "output_type": "stream",
     "text": [
      "program_change channel=0 program=0 time=0\n",
      "control_change channel=0 control=64 value=127 time=0\n",
      "control_change channel=0 control=67 value=0 time=0\n",
      "note_on channel=0 note=C#5 velocity=64 time=768\n",
      "note_on channel=0 note=E4 velocity=41 time=48\n",
      "note_on channel=0 note=G#4 velocity=46 time=0\n",
      "note_on channel=0 note=C#2 velocity=39 time=0\n",
      "note_on channel=0 note=C#4 velocity=35 time=0\n",
      "note_on channel=0 note=G#2 velocity=30 time=0\n",
      "note_off channel=0 note=C#5 time=216\n",
      "note_off channel=0 note=G#4 time=48\n",
      "note_off channel=0 note=E4 time=24\n",
      "note_off channel=0 note=C#4 time=120\n",
      "note_on channel=0 note=G#4 velocity=67 time=360\n",
      "note_on channel=0 note=G#3 velocity=45 time=24\n",
      "note_on channel=0 note=E4 velocity=44 time=0\n",
      "note_on channel=0 note=C#4 velocity=44 time=24\n",
      "note_off channel=0 note=G#4 time=264\n",
      "note_off channel=0 note=E4 time=48\n",
      "note_off channel=0 note=C#4 time=120\n"
     ]
    }
   ],
   "source": [
    "relevant_schumann = [msg for msg in schumann.tracks[1] if not msg.is_meta]\n",
    "quantized = quantize(list(map(lambda msg: msg.time, relevant_schumann)), \n",
    "                     resolution=BEAT_RESOLUTION, \n",
    "                     ticks_per_beat=schumann.ticks_per_beat)\n",
    "quantized_schumann = [msg.copy(time=new_time) for msg, new_time in zip(relevant_schumann, quantized)]\n",
    "print_messages(quantized_schumann, 20, transnote=get_pitch)"
   ]
  },
  {
   "cell_type": "code",
   "execution_count": 13,
   "metadata": {},
   "outputs": [
    {
     "data": {
      "text/plain": [
       "<midi file '../../data/maestro-v3.0.0/2018/MIDI-Unprocessed_Recital20_MID--AUDIO_20_R1_2018_wav--4.midi' type 1, 2 tracks, 108941 messages>"
      ]
     },
     "execution_count": 13,
     "metadata": {},
     "output_type": "execute_result"
    }
   ],
   "source": [
    "schumann_copy = deepcopy(schumann)\n",
    "schumann_copy.tracks[1] = mido.MidiTrack(quantized_schumann)\n",
    "schumann_copy"
   ]
  },
  {
   "cell_type": "code",
   "execution_count": 14,
   "metadata": {},
   "outputs": [],
   "source": [
    "schumann_copy.save('schumann.midi')"
   ]
  },
  {
   "cell_type": "markdown",
   "metadata": {},
   "source": [
    "## Moving Away from Midi"
   ]
  },
  {
   "cell_type": "code",
   "execution_count": 15,
   "metadata": {},
   "outputs": [],
   "source": [
    "def rest(beats: int):\n",
    "    return f'rest_b:{beats}'\n",
    "\n",
    "def note(pitch: int, velocity: int, instrument: str='piano'):\n",
    "    return f'note_p:{pitch}_v:{velocity}_i:{instrument}'\n",
    "\n",
    "def control(control: int, value: int):\n",
    "    return f'control_c:{control}_v:{value}'\n",
    "\n",
    "MESSAGE_REF = {\n",
    "  'note_on': note,\n",
    "  'note_off': note,\n",
    "  'control_change': control\n",
    "}\n",
    "\n",
    "def _get_message(msg):\n",
    "    \"\"\"\n",
    "    constructs simple two byte messages (Control and Note). Doesn't \n",
    "    handle instruments. Doesn't handle note offs with non zero velocity\n",
    "    \"\"\"\n",
    "    msg_data = msg.bytes()[1:]\n",
    "    if msg.type == 'note_off':\n",
    "        msg_data[-1] = 0\n",
    "    msg_obj = MESSAGE_REF.get(msg.type, None)\n",
    "    return msg_obj(*msg_data) if msg_obj is not None else msg_obj"
   ]
  },
  {
   "cell_type": "markdown",
   "metadata": {},
   "source": [
    "### Converting to Notes"
   ]
  },
  {
   "cell_type": "code",
   "execution_count": 37,
   "metadata": {},
   "outputs": [],
   "source": [
    "def gen_messages(track, tick_per_beat, resolution):\n",
    "    accum_time = 0\n",
    "    for msg in track:\n",
    "        accum_time += msg.time\n",
    "        msg_obj = _get_message(msg)\n",
    "        if msg_obj is not None:\n",
    "            accum_beats = int(accum_time * resolution / tick_per_beat) # this eq can be factored into quantize method\n",
    "            excess_beats = accum_beats % resolution\n",
    "            for i in range(accum_beats // resolution):\n",
    "                yield rest(resolution)\n",
    "            if excess_beats != 0:\n",
    "                yield rest(excess_beats)\n",
    "            accum_time = 0\n",
    "            yield msg_obj\n",
    "\n",
    "def to_beats(track, tick_per_beat, resolution):\n",
    "    return list(gen_messages(track, tick_per_beat, resolution))"
   ]
  },
  {
   "cell_type": "code",
   "execution_count": 38,
   "metadata": {},
   "outputs": [
    {
     "data": {
      "text/plain": [
       "['control_c:64_v:127',\n",
       " 'control_c:67_v:0',\n",
       " 'rest_b:16',\n",
       " 'rest_b:16',\n",
       " 'note_p:73_v:64_i:piano',\n",
       " 'rest_b:2',\n",
       " 'note_p:64_v:41_i:piano',\n",
       " 'note_p:68_v:46_i:piano',\n",
       " 'note_p:37_v:39_i:piano',\n",
       " 'note_p:61_v:35_i:piano',\n",
       " 'note_p:44_v:30_i:piano',\n",
       " 'rest_b:9',\n",
       " 'note_p:73_v:0_i:piano',\n",
       " 'rest_b:2',\n",
       " 'note_p:68_v:0_i:piano',\n",
       " 'rest_b:1',\n",
       " 'note_p:64_v:0_i:piano',\n",
       " 'rest_b:5',\n",
       " 'note_p:61_v:0_i:piano',\n",
       " 'rest_b:15',\n",
       " 'note_p:68_v:67_i:piano',\n",
       " 'rest_b:1',\n",
       " 'note_p:56_v:45_i:piano',\n",
       " 'note_p:64_v:44_i:piano',\n",
       " 'rest_b:1',\n",
       " 'note_p:61_v:44_i:piano',\n",
       " 'rest_b:11',\n",
       " 'note_p:68_v:0_i:piano',\n",
       " 'rest_b:2',\n",
       " 'note_p:64_v:0_i:piano']"
      ]
     },
     "execution_count": 38,
     "metadata": {},
     "output_type": "execute_result"
    }
   ],
   "source": [
    "relevant_schumann_copy = [msg for msg in schumann_copy.tracks[1] if is_relevant_msg(msg)]\n",
    "schumann_seq = to_beats(track=relevant_schumann_copy, resolution=16, tick_per_beat=schumann_copy.ticks_per_beat)\n",
    "schumann_seq[:30]"
   ]
  },
  {
   "cell_type": "markdown",
   "metadata": {},
   "source": [
    "The first value in each tuple represents the number of beats for that note is played. Because notes were quantized with a 64th note resolution and beats set to quarter notes, each note will have a time that is some multiple of $\\frac{1}{16}$. \n",
    "\n",
    "> When quantizing, each tick value was adjusted so that $$\\text{ticks}' = x * \\frac{\\text{ticks_per_beat}}{\\text{resolution}}$$When converting to beats, $\\text{ticks}'$ is divided by ticks_per_beat. $$\\text{beats} = \\frac{\\text{ticks}'}{\\text{ticks_per_beat}} = x * \\frac{\\text{ticks_per_beat}}{\\text{resolution} * \\text{ticks_per_beat}} = x * \\frac{1}{\\text{resolution}}$$"
   ]
  },
  {
   "cell_type": "markdown",
   "metadata": {},
   "source": [
    "Using this approach, we will have 16 waits defined in the vocabulary (wait:[1-16]). Waits longer than 1 beat will be recorded as (wait:16, wait:n). However, a constant resolution needs to be set for all songs. Test quantizing a faster song."
   ]
  },
  {
   "cell_type": "markdown",
   "metadata": {},
   "source": [
    "### Binning velocities"
   ]
  },
  {
   "cell_type": "code",
   "execution_count": 56,
   "metadata": {},
   "outputs": [],
   "source": [
    "def _get_bin(value, bin_size: int, max_val: int, min_val: int) -> int:\n",
    "    if value >= max_val:\n",
    "        return bin_size + 1\n",
    "    elif value < min_val:\n",
    "        return 0\n",
    "    else:\n",
    "        return int((value - min_val) // bin_size) + 1\n",
    "\n",
    "def bin_seq(sequence, num_bins: int, max_val: int, min_val: int, seqlen: int=None) -> np.ndarray:\n",
    "    \"\"\"\n",
    "    takes in an iterable of numbers and assigns an integer label corresponding to the bin it falls\n",
    "    in. Values greater than max_val are given a bin label of num_bins + 1, and values below min_val\n",
    "    are given bin label 0.\n",
    "    \"\"\"\n",
    "    bin_size = (max_val - min_val) / num_bins\n",
    "    seqlen = len(sequence) if seqlen is None else seqlen\n",
    "\n",
    "    binned = (_get_bin(val, bin_size, max_val, min_val) for val in sequence)\n",
    "    return np.fromiter(binned, dtype=np.int32, count=seqlen)"
   ]
  },
  {
   "cell_type": "code",
   "execution_count": 57,
   "metadata": {},
   "outputs": [
    {
     "name": "stdout",
     "output_type": "stream",
     "text": [
      "max_val: 128\n",
      "min_val: 1\n",
      "num_bins: 32\n",
      "bin_size: 3.96875\n",
      "all_bins:\n",
      "\t1: [1.0, 4.96875)\n",
      "\t2: [4.96875, 8.9375)\n",
      "\t3: [8.9375, 12.90625)\n",
      "\t4: [12.90625, 16.875)\n",
      "\t5: [16.875, 20.84375)\n",
      "\t6: [20.84375, 24.8125)\n",
      "\t7: [24.8125, 28.78125)\n",
      "\t8: [28.78125, 32.75)\n",
      "\t9: [32.75, 36.71875)\n",
      "\t10: [36.71875, 40.6875)\n",
      "\t11: [40.6875, 44.65625)\n",
      "\t12: [44.65625, 48.625)\n",
      "\t13: [48.625, 52.59375)\n",
      "\t14: [52.59375, 56.5625)\n",
      "\t15: [56.5625, 60.53125)\n",
      "\t16: [60.53125, 64.5)\n",
      "\t17: [64.5, 68.46875)\n",
      "\t18: [68.46875, 72.4375)\n",
      "\t19: [72.4375, 76.40625)\n",
      "\t20: [76.40625, 80.375)\n",
      "\t21: [80.375, 84.34375)\n",
      "\t22: [84.34375, 88.3125)\n",
      "\t23: [88.3125, 92.28125)\n",
      "\t24: [92.28125, 96.25)\n",
      "\t25: [96.25, 100.21875)\n",
      "\t26: [100.21875, 104.1875)\n",
      "\t27: [104.1875, 108.15625)\n",
      "\t28: [108.15625, 112.125)\n",
      "\t29: [112.125, 116.09375)\n",
      "\t30: [116.09375, 120.0625)\n",
      "\t31: [120.0625, 124.03125)\n",
      "\t32: [124.03125, 128.0)\n",
      "(16, <message note_on channel=0 note=73 velocity=64 time=768>)\n",
      "(11, <message note_on channel=0 note=64 velocity=41 time=48>)\n",
      "(12, <message note_on channel=0 note=68 velocity=46 time=0>)\n",
      "(10, <message note_on channel=0 note=37 velocity=39 time=0>)\n",
      "(9, <message note_on channel=0 note=61 velocity=35 time=0>)\n",
      "(8, <message note_on channel=0 note=44 velocity=30 time=0>)\n",
      "(0, <message note_on channel=0 note=73 velocity=0 time=216>)\n",
      "(0, <message note_on channel=0 note=68 velocity=0 time=48>)\n",
      "(0, <message note_on channel=0 note=64 velocity=0 time=24>)\n",
      "(0, <message note_on channel=0 note=61 velocity=0 time=120>)\n",
      "(17, <message note_on channel=0 note=68 velocity=67 time=360>)\n",
      "(12, <message note_on channel=0 note=56 velocity=45 time=24>)\n",
      "(11, <message note_on channel=0 note=64 velocity=44 time=0>)\n",
      "(11, <message note_on channel=0 note=61 velocity=44 time=24>)\n",
      "(0, <message note_on channel=0 note=68 velocity=0 time=264>)\n",
      "(0, <message note_on channel=0 note=64 velocity=0 time=48>)\n",
      "(0, <message note_on channel=0 note=61 velocity=0 time=120>)\n",
      "(0, <message note_on channel=0 note=56 velocity=0 time=120>)\n",
      "(17, <message note_on channel=0 note=64 velocity=67 time=240>)\n",
      "(12, <message note_on channel=0 note=52 velocity=46 time=24>)\n",
      "(12, <message note_on channel=0 note=61 velocity=48 time=0>)\n",
      "(9, <message note_on channel=0 note=56 velocity=36 time=0>)\n",
      "(0, <message note_on channel=0 note=64 velocity=0 time=144>)\n",
      "(0, <message note_on channel=0 note=56 velocity=0 time=0>)\n",
      "(0, <message note_on channel=0 note=61 velocity=0 time=48>)\n",
      "(0, <message note_on channel=0 note=52 velocity=0 time=312>)\n",
      "(17, <message note_on channel=0 note=61 velocity=66 time=120>)\n",
      "(10, <message note_on channel=0 note=56 velocity=39 time=48>)\n",
      "(9, <message note_on channel=0 note=52 velocity=36 time=0>)\n",
      "(9, <message note_on channel=0 note=49 velocity=33 time=0>)\n"
     ]
    }
   ],
   "source": [
    "NUM_BINS = 32\n",
    "MAX_VAL = 128\n",
    "MIN_VAL = 1\n",
    "BIN_SIZE = (MAX_VAL - MIN_VAL) / NUM_BINS\n",
    "all_bins = [f'[{(i * BIN_SIZE) + MIN_VAL}, {(i * BIN_SIZE) + MIN_VAL + BIN_SIZE})' for i in range(32)]\n",
    "schumann_to_bin = [msg for msg in relevant_schumann_copy if msg.type == 'note_on']\n",
    "binned_schumann = bin_seq([msg.velocity for msg in schumann_to_bin], NUM_BINS, MAX_VAL, MIN_VAL)\n",
    "zipped = zip(binned_schumann[:30], schumann_to_bin[:30])\n",
    "print(f'max_val: {MAX_VAL}')\n",
    "print(f'min_val: {MIN_VAL}')\n",
    "print(f'num_bins: {NUM_BINS}')\n",
    "print(f'bin_size: {BIN_SIZE}')\n",
    "print('all_bins:')\n",
    "for idx, row in enumerate(all_bins):\n",
    "    print(f'\\t{idx + 1}: {row}')\n",
    "for row in zipped:\n",
    "    print(row)"
   ]
  },
  {
   "cell_type": "markdown",
   "metadata": {},
   "source": [
    "## Vocabulary"
   ]
  },
  {
   "cell_type": "markdown",
   "metadata": {},
   "source": [
    "The full vocabulary will consist of 16 waits (or any power of 2 depending on what resolution I go with), and 128 notes, each with 32 volume levels, each with 6 instruments. A total size of 24,592.\n",
    "\n",
    "Volumes will be binned for less noise, and to account for variability in performances.\n",
    "\n",
    "For now I'll just stick with piano, so 88 notes (A0-C8), 32 volumes, 1 instrument, 16 waits. A total size of 2832. "
   ]
  },
  {
   "cell_type": "markdown",
   "metadata": {},
   "source": [
    "## Metadata + Features"
   ]
  },
  {
   "cell_type": "markdown",
   "metadata": {},
   "source": [
    "### Additional Features\n",
    "\n",
    "Aside from the vocabulary, I will train the model with the following features:\n",
    "\n",
    "- [x] composer\n",
    "- ~~key signature~~ (data not available)\n",
    "- [x] tempo\n",
    "- [x] time period/style\n"
   ]
  },
  {
   "cell_type": "code",
   "execution_count": 18,
   "metadata": {},
   "outputs": [],
   "source": [
    "with open(f'{DATA_DIR}/maestro-v3.0.0/maestro-v3.0.0.csv', encoding='utf-8') as csvfile:\n",
    "    reader = list(csv.DictReader(csvfile))"
   ]
  },
  {
   "cell_type": "code",
   "execution_count": 19,
   "metadata": {},
   "outputs": [],
   "source": [
    "with open(f'{DATA_DIR}/metadata/composers.json') as composer_file:\n",
    "    composers = json.load(composer_file)"
   ]
  },
  {
   "cell_type": "markdown",
   "metadata": {},
   "source": [
    "For composer searching, I will need to clean up the csv file to make sure that composer names match up with the names given in the composers file."
   ]
  },
  {
   "cell_type": "markdown",
   "metadata": {},
   "source": [
    "### Epoch"
   ]
  },
  {
   "cell_type": "code",
   "execution_count": 20,
   "metadata": {},
   "outputs": [],
   "source": [
    "def epoch(complete_name: str):\n",
    "    result = [composer for composer in composers if composer['complete_name'].lower() == complete_name.lower()]\n",
    "    if len(result) > 0:\n",
    "        return result[0]['epoch']\n",
    "    return None"
   ]
  },
  {
   "cell_type": "code",
   "execution_count": 21,
   "metadata": {},
   "outputs": [
    {
     "data": {
      "text/plain": [
       "'Late Romantic'"
      ]
     },
     "execution_count": 21,
     "metadata": {},
     "output_type": "execute_result"
    }
   ],
   "source": [
    "epoch('Leoš Janáček')"
   ]
  },
  {
   "cell_type": "markdown",
   "metadata": {},
   "source": [
    "### Composers"
   ]
  },
  {
   "cell_type": "code",
   "execution_count": 22,
   "metadata": {},
   "outputs": [
    {
     "data": {
      "text/plain": [
       "{'Alban Berg',\n",
       " 'Alexander Scriabin',\n",
       " 'Antonio Soler',\n",
       " 'Carl Maria von Weber',\n",
       " 'Charles Gounod / Franz Liszt',\n",
       " 'Claude Debussy',\n",
       " 'César Franck',\n",
       " 'Domenico Scarlatti',\n",
       " 'Edvard Grieg',\n",
       " 'Felix Mendelssohn',\n",
       " 'Felix Mendelssohn / Sergei Rachmaninoff',\n",
       " 'Franz Liszt',\n",
       " 'Franz Liszt / Camille Saint-Saëns',\n",
       " 'Franz Liszt / Vladimir Horowitz',\n",
       " 'Franz Schubert',\n",
       " 'Franz Schubert / Franz Liszt',\n",
       " 'Franz Schubert / Leopold Godowsky',\n",
       " 'Fritz Kreisler / Sergei Rachmaninoff',\n",
       " 'Frédéric Chopin',\n",
       " 'George Enescu',\n",
       " 'George Frideric Handel',\n",
       " 'Georges Bizet / Ferruccio Busoni',\n",
       " 'Georges Bizet / Moritz Moszkowski',\n",
       " 'Georges Bizet / Vladimir Horowitz',\n",
       " 'Giuseppe Verdi / Franz Liszt',\n",
       " 'Henry Purcell',\n",
       " 'Isaac Albéniz',\n",
       " 'Isaac Albéniz / Leopold Godowsky',\n",
       " 'Jean-Philippe Rameau',\n",
       " 'Johann Christian Fischer / Wolfgang Amadeus Mozart',\n",
       " 'Johann Pachelbel',\n",
       " 'Johann Sebastian Bach',\n",
       " 'Johann Sebastian Bach / Egon Petri',\n",
       " 'Johann Sebastian Bach / Ferruccio Busoni',\n",
       " 'Johann Sebastian Bach / Franz Liszt',\n",
       " 'Johann Sebastian Bach / Myra Hess',\n",
       " 'Johann Strauss / Alfred Grünfeld',\n",
       " 'Johannes Brahms',\n",
       " 'Joseph Haydn',\n",
       " 'Leoš Janáček',\n",
       " 'Ludwig van Beethoven',\n",
       " 'Mikhail Glinka / Mily Balakirev',\n",
       " 'Mily Balakirev',\n",
       " 'Modest Mussorgsky',\n",
       " 'Muzio Clementi',\n",
       " 'Niccolò Paganini / Franz Liszt',\n",
       " 'Nikolai Medtner',\n",
       " 'Nikolai Rimsky-Korsakov / Sergei Rachmaninoff',\n",
       " 'Orlando Gibbons',\n",
       " 'Percy Grainger',\n",
       " 'Pyotr Ilyich Tchaikovsky',\n",
       " 'Pyotr Ilyich Tchaikovsky / Mikhail Pletnev',\n",
       " 'Pyotr Ilyich Tchaikovsky / Sergei Rachmaninoff',\n",
       " 'Richard Wagner / Franz Liszt',\n",
       " 'Robert Schumann',\n",
       " 'Robert Schumann / Franz Liszt',\n",
       " 'Sergei Rachmaninoff',\n",
       " 'Sergei Rachmaninoff / György Cziffra',\n",
       " 'Sergei Rachmaninoff / Vyacheslav Gryaznov',\n",
       " 'Wolfgang Amadeus Mozart'}"
      ]
     },
     "execution_count": 22,
     "metadata": {},
     "output_type": "execute_result"
    }
   ],
   "source": [
    "# Unique Composers\n",
    "unique_composers = set()\n",
    "for row in reader:\n",
    "    unique_composers.add(row['canonical_composer'])\n",
    "unique_composers"
   ]
  },
  {
   "cell_type": "markdown",
   "metadata": {},
   "source": [
    "There is a possibility of multiple composers. When this happens, choose the more common composer."
   ]
  },
  {
   "cell_type": "markdown",
   "metadata": {},
   "source": [
    "### CSV and Composer Cross Reference"
   ]
  },
  {
   "cell_type": "code",
   "execution_count": 23,
   "metadata": {},
   "outputs": [
    {
     "name": "stdout",
     "output_type": "stream",
     "text": [
      "{'Alban Berg': {'birth': '1885-01-01',\n",
      "                'complete_name': 'Alban Berg',\n",
      "                'death': '1935-01-01',\n",
      "                'epoch': '20th Century',\n",
      "                'id': '210',\n",
      "                'name': 'Berg',\n",
      "                'portrait': 'https://assets.openopus.org/portraits/48656640-1568084861.jpg'},\n",
      " 'Alexander Scriabin': {'birth': '1872-01-01',\n",
      "                        'complete_name': 'Alexander Scriabin',\n",
      "                        'death': '1915-01-01',\n",
      "                        'epoch': 'Late Romantic',\n",
      "                        'id': '18',\n",
      "                        'name': 'Scriabin',\n",
      "                        'portrait': 'https://assets.openopus.org/portraits/33736318-1568084946.jpg'},\n",
      " 'Alfred Grünfeld': None,\n",
      " 'Antonio Soler': None,\n",
      " 'Camille Saint-Saëns': {'birth': '1835-01-01',\n",
      "                         'complete_name': 'Camille Saint-Saëns',\n",
      "                         'death': '1921-01-01',\n",
      "                         'epoch': 'Romantic',\n",
      "                         'id': '45',\n",
      "                         'name': 'Saint-Saëns',\n",
      "                         'portrait': 'https://assets.openopus.org/portraits/16186799-1568084942.jpg'},\n",
      " 'Carl Maria von Weber': {'birth': '1786-01-01',\n",
      "                          'complete_name': 'Carl Maria von Weber',\n",
      "                          'death': '1826-01-01',\n",
      "                          'epoch': 'Early Romantic',\n",
      "                          'id': '168',\n",
      "                          'name': 'Weber',\n",
      "                          'portrait': 'https://assets.openopus.org/portraits/17859492-1568084960.jpg'},\n",
      " 'Charles Gounod': {'birth': '1818-01-01',\n",
      "                    'complete_name': 'Charles Gounod',\n",
      "                    'death': '1893-01-01',\n",
      "                    'epoch': 'Romantic',\n",
      "                    'id': '29',\n",
      "                    'name': 'Gounod',\n",
      "                    'portrait': 'https://assets.openopus.org/portraits/65663945-1568084906.jpg'},\n",
      " 'Claude Debussy': {'birth': '1862-01-01',\n",
      "                    'complete_name': 'Claude Debussy',\n",
      "                    'death': '1918-01-01',\n",
      "                    'epoch': 'Late Romantic',\n",
      "                    'id': '105',\n",
      "                    'name': 'Debussy',\n",
      "                    'portrait': 'https://assets.openopus.org/portraits/58875477-1568084877.jpg'},\n",
      " 'César Franck': {'birth': '1822-01-01',\n",
      "                  'complete_name': 'César Franck',\n",
      "                  'death': '1890-01-01',\n",
      "                  'epoch': 'Romantic',\n",
      "                  'id': '12',\n",
      "                  'name': 'Franck',\n",
      "                  'portrait': 'https://assets.openopus.org/portraits/66473468-1568084890.jpg'},\n",
      " 'Domenico Scarlatti': {'birth': '1685-01-01',\n",
      "                        'complete_name': 'Domenico Scarlatti',\n",
      "                        'death': '1757-01-01',\n",
      "                        'epoch': 'Baroque',\n",
      "                        'id': '97',\n",
      "                        'name': 'Scarlatti',\n",
      "                        'portrait': 'https://assets.openopus.org/portraits/19391876-1568084943.jpg'},\n",
      " 'Edvard Grieg': {'birth': '1843-01-01',\n",
      "                  'complete_name': 'Edvard Grieg',\n",
      "                  'death': '1907-01-01',\n",
      "                  'epoch': 'Romantic',\n",
      "                  'id': '162',\n",
      "                  'name': 'Grieg',\n",
      "                  'portrait': 'https://assets.openopus.org/portraits/69318482-1568084907.jpg'},\n",
      " 'Egon Petri': None,\n",
      " 'Felix Mendelssohn': {'birth': '1809-01-01',\n",
      "                       'complete_name': 'Felix Mendelssohn',\n",
      "                       'death': '1847-01-01',\n",
      "                       'epoch': 'Romantic',\n",
      "                       'id': '147',\n",
      "                       'name': 'Mendelssohn',\n",
      "                       'portrait': 'https://assets.openopus.org/portraits/77325243-1568084923.jpg'},\n",
      " 'Ferruccio Busoni': {'birth': '1866-01-01',\n",
      "                      'complete_name': 'Ferruccio Busoni',\n",
      "                      'death': '1924-01-01',\n",
      "                      'epoch': 'Late Romantic',\n",
      "                      'id': '84',\n",
      "                      'name': 'Busoni',\n",
      "                      'portrait': 'https://assets.openopus.org/portraits/77100040-1568084868.jpg'},\n",
      " 'Franz Liszt': {'birth': '1811-01-01',\n",
      "                 'complete_name': 'Franz Liszt',\n",
      "                 'death': '1886-01-01',\n",
      "                 'epoch': 'Romantic',\n",
      "                 'id': '197',\n",
      "                 'name': 'Liszt',\n",
      "                 'portrait': 'https://assets.openopus.org/portraits/60368090-1568084919.jpg'},\n",
      " 'Franz Schubert': {'birth': '1797-01-01',\n",
      "                    'complete_name': 'Franz Schubert',\n",
      "                    'death': '1828-01-01',\n",
      "                    'epoch': 'Early Romantic',\n",
      "                    'id': '183',\n",
      "                    'name': 'Schubert',\n",
      "                    'portrait': 'https://assets.openopus.org/portraits/91122704-1568084944.jpg'},\n",
      " 'Fritz Kreisler': None,\n",
      " 'Frédéric Chopin': {'birth': '1810-01-01',\n",
      "                     'complete_name': 'Frédéric Chopin',\n",
      "                     'death': '1849-01-01',\n",
      "                     'epoch': 'Romantic',\n",
      "                     'id': '152',\n",
      "                     'name': 'Chopin',\n",
      "                     'portrait': 'https://assets.openopus.org/portraits/72753742-1568084874.jpg'},\n",
      " 'George Enescu': {'birth': '1881-01-01',\n",
      "                   'complete_name': 'George Enescu',\n",
      "                   'death': '1955-01-01',\n",
      "                   'epoch': 'Late Romantic',\n",
      "                   'id': '38',\n",
      "                   'name': 'Enescu',\n",
      "                   'portrait': 'https://assets.openopus.org/portraits/39372146-1568084888.jpg'},\n",
      " 'George Frideric Handel': {'birth': '1685-01-01',\n",
      "                            'complete_name': 'George Frideric Handel',\n",
      "                            'death': '1759-01-01',\n",
      "                            'epoch': 'Baroque',\n",
      "                            'id': '67',\n",
      "                            'name': 'Handel',\n",
      "                            'portrait': 'https://assets.openopus.org/portraits/59133744-1568084908.jpg'},\n",
      " 'Georges Bizet': {'birth': '1838-01-01',\n",
      "                   'complete_name': 'Georges Bizet',\n",
      "                   'death': '1875-01-01',\n",
      "                   'epoch': 'Romantic',\n",
      "                   'id': '68',\n",
      "                   'name': 'Bizet',\n",
      "                   'portrait': 'https://assets.openopus.org/portraits/90081680-1568084864.jpg'},\n",
      " 'Giuseppe Verdi': {'birth': '1813-01-01',\n",
      "                    'complete_name': 'Giuseppe Verdi',\n",
      "                    'death': '1901-01-01',\n",
      "                    'epoch': 'Romantic',\n",
      "                    'id': '35',\n",
      "                    'name': 'Verdi',\n",
      "                    'portrait': 'https://assets.openopus.org/portraits/20193752-1568084957.jpg'},\n",
      " 'György Cziffra': None,\n",
      " 'Henry Purcell': {'birth': '1659-01-01',\n",
      "                   'complete_name': 'Henry Purcell',\n",
      "                   'death': '1695-01-01',\n",
      "                   'epoch': 'Baroque',\n",
      "                   'id': '199',\n",
      "                   'name': 'Purcell',\n",
      "                   'portrait': 'https://assets.openopus.org/portraits/98518308-1568084936.jpg'},\n",
      " 'Isaac Albéniz': {'birth': '1860-01-01',\n",
      "                   'complete_name': 'Isaac Albéniz',\n",
      "                   'death': '1909-01-01',\n",
      "                   'epoch': 'Late Romantic',\n",
      "                   'id': '216',\n",
      "                   'name': 'Albéniz',\n",
      "                   'portrait': 'https://assets.openopus.org/portraits/34320620-1568084855.jpg'},\n",
      " 'Jean-Philippe Rameau': {'birth': '1683-01-01',\n",
      "                          'complete_name': 'Jean-Philippe Rameau',\n",
      "                          'death': '1764-01-01',\n",
      "                          'epoch': 'Baroque',\n",
      "                          'id': '178',\n",
      "                          'name': 'Rameau',\n",
      "                          'portrait': 'https://assets.openopus.org/portraits/82780595-1568084937.jpg'},\n",
      " 'Johann Christian Fischer': None,\n",
      " 'Johann Pachelbel': {'birth': '1653-01-01',\n",
      "                      'complete_name': 'Johann Pachelbel',\n",
      "                      'death': '1706-01-01',\n",
      "                      'epoch': 'Baroque',\n",
      "                      'id': '115',\n",
      "                      'name': 'Pachelbel',\n",
      "                      'portrait': 'https://assets.openopus.org/portraits/56262073-1568084928.jpg'},\n",
      " 'Johann Sebastian Bach': {'birth': '1685-01-01',\n",
      "                           'complete_name': 'Johann Sebastian Bach',\n",
      "                           'death': '1750-01-01',\n",
      "                           'epoch': 'Baroque',\n",
      "                           'id': '87',\n",
      "                           'name': 'Bach',\n",
      "                           'portrait': 'https://assets.openopus.org/portraits/12091447-1568084857.jpg'},\n",
      " 'Johann Strauss': None,\n",
      " 'Johannes Brahms': {'birth': '1833-01-01',\n",
      "                     'complete_name': 'Johannes Brahms',\n",
      "                     'death': '1897-01-01',\n",
      "                     'epoch': 'Romantic',\n",
      "                     'id': '80',\n",
      "                     'name': 'Brahms',\n",
      "                     'portrait': 'https://assets.openopus.org/portraits/46443632-1568084867.jpg'},\n",
      " 'Joseph Haydn': None,\n",
      " 'Leopold Godowsky': None,\n",
      " 'Leoš Janáček': {'birth': '1854-01-01',\n",
      "                  'complete_name': 'Leoš Janáček',\n",
      "                  'death': '1928-01-01',\n",
      "                  'epoch': 'Late Romantic',\n",
      "                  'id': '96',\n",
      "                  'name': 'Janacek',\n",
      "                  'portrait': 'https://assets.openopus.org/portraits/46281538-1568084914.jpg'},\n",
      " 'Ludwig van Beethoven': {'birth': '1770-01-01',\n",
      "                          'complete_name': 'Ludwig van Beethoven',\n",
      "                          'death': '1827-01-01',\n",
      "                          'epoch': 'Early Romantic',\n",
      "                          'id': '145',\n",
      "                          'name': 'Beethoven',\n",
      "                          'portrait': 'https://assets.openopus.org/portraits/55910756-1568084860.jpg'},\n",
      " 'Mikhail Glinka': None,\n",
      " 'Mikhail Pletnev': None,\n",
      " 'Mily Balakirev': {'birth': '1837-01-01',\n",
      "                    'complete_name': 'Mily Balakirev',\n",
      "                    'death': '1910-01-01',\n",
      "                    'epoch': 'Romantic',\n",
      "                    'id': '21',\n",
      "                    'name': 'Balakirev',\n",
      "                    'portrait': 'https://assets.openopus.org/portraits/65101311-1568084859.jpg'},\n",
      " 'Modest Mussorgsky': {'birth': '1839-01-01',\n",
      "                       'complete_name': 'Modest Mussorgsky',\n",
      "                       'death': '1881-01-01',\n",
      "                       'epoch': 'Romantic',\n",
      "                       'id': '181',\n",
      "                       'name': 'Mussorgsky',\n",
      "                       'portrait': 'https://assets.openopus.org/portraits/94856316-1568084926.jpg'},\n",
      " 'Moritz Moszkowski': None,\n",
      " 'Muzio Clementi': None,\n",
      " 'Myra Hess': None,\n",
      " 'Niccolò Paganini': {'birth': '1782-01-01',\n",
      "                      'complete_name': 'Niccolò Paganini',\n",
      "                      'death': '1840-01-01',\n",
      "                      'epoch': 'Early Romantic',\n",
      "                      'id': '3',\n",
      "                      'name': 'Paganini',\n",
      "                      'portrait': 'https://assets.openopus.org/portraits/66903104-1568084929.jpg'},\n",
      " 'Nikolai Medtner': None,\n",
      " 'Nikolai Rimsky-Korsakov': {'birth': '1844-01-01',\n",
      "                             'complete_name': 'Nikolai Rimsky-Korsakov',\n",
      "                             'death': '1908-01-01',\n",
      "                             'epoch': 'Romantic',\n",
      "                             'id': '118',\n",
      "                             'name': 'Rimsky-Korsakov',\n",
      "                             'portrait': 'https://assets.openopus.org/portraits/93378408-1568084939.jpg'},\n",
      " 'Orlando Gibbons': None,\n",
      " 'Percy Grainger': {'birth': '1882-01-01',\n",
      "                    'complete_name': 'Percy Grainger',\n",
      "                    'death': '1961-01-01',\n",
      "                    'epoch': '20th Century',\n",
      "                    'id': '99',\n",
      "                    'name': 'Grainger',\n",
      "                    'portrait': 'https://assets.openopus.org/portraits/85386360-1568084906.jpg'},\n",
      " 'Pyotr Ilyich Tchaikovsky': {'birth': '1840-01-01',\n",
      "                              'complete_name': 'Pyotr Ilyich Tchaikovsky',\n",
      "                              'death': '1893-01-01',\n",
      "                              'epoch': 'Romantic',\n",
      "                              'id': '79',\n",
      "                              'name': 'Tchaikovsky',\n",
      "                              'portrait': 'https://assets.openopus.org/portraits/32941433-1568084956.jpg'},\n",
      " 'Richard Wagner': {'birth': '1813-01-01',\n",
      "                    'complete_name': 'Richard Wagner',\n",
      "                    'death': '1883-01-01',\n",
      "                    'epoch': 'Romantic',\n",
      "                    'id': '138',\n",
      "                    'name': 'Wagner',\n",
      "                    'portrait': 'https://assets.openopus.org/portraits/39267138-1568084959.jpg'},\n",
      " 'Robert Schumann': {'birth': '1810-01-01',\n",
      "                     'complete_name': 'Robert Schumann',\n",
      "                     'death': '1856-01-01',\n",
      "                     'epoch': 'Romantic',\n",
      "                     'id': '129',\n",
      "                     'name': 'Schumann',\n",
      "                     'portrait': 'https://assets.openopus.org/portraits/25233320-1568084946.jpg'},\n",
      " 'Sergei Rachmaninoff': {'birth': '1873-01-01',\n",
      "                         'complete_name': 'Sergei Rachmaninoff',\n",
      "                         'death': '1943-01-01',\n",
      "                         'epoch': 'Late Romantic',\n",
      "                         'id': '188',\n",
      "                         'name': 'Rachmaninoff',\n",
      "                         'portrait': 'https://assets.openopus.org/portraits/85784913-1568084937.jpg'},\n",
      " 'Vladimir Horowitz': None,\n",
      " 'Vyacheslav Gryaznov': None,\n",
      " 'Wolfgang Amadeus Mozart': {'birth': '1756-01-01',\n",
      "                             'complete_name': 'Wolfgang Amadeus Mozart',\n",
      "                             'death': '1791-01-01',\n",
      "                             'epoch': 'Classical',\n",
      "                             'id': '196',\n",
      "                             'name': 'Mozart',\n",
      "                             'portrait': 'https://assets.openopus.org/portraits/21459195-1568084925.jpg'}}\n"
     ]
    }
   ],
   "source": [
    "composers_both_present = dict()\n",
    "for u_composer in unique_composers:\n",
    "    split_composers = u_composer.split(' / ')\n",
    "    for comp_name in split_composers:\n",
    "        comp_entry = [entry for entry in composers if entry['complete_name'] == comp_name]\n",
    "        comp_entry = comp_entry[0] if len(comp_entry) > 0 else None\n",
    "        composers_both_present[comp_name] = comp_entry\n",
    "pprint.pprint(composers_both_present)"
   ]
  },
  {
   "cell_type": "code",
   "execution_count": 24,
   "metadata": {},
   "outputs": [
    {
     "name": "stdout",
     "output_type": "stream",
     "text": [
      "Number not found in composer file: 18\n"
     ]
    },
    {
     "data": {
      "text/plain": [
       "['Vladimir Horowitz',\n",
       " 'Leopold Godowsky',\n",
       " 'Johann Strauss',\n",
       " 'Alfred Grünfeld',\n",
       " 'György Cziffra',\n",
       " 'Fritz Kreisler',\n",
       " 'Egon Petri',\n",
       " 'Mikhail Pletnev',\n",
       " 'Moritz Moszkowski',\n",
       " 'Myra Hess',\n",
       " 'Joseph Haydn',\n",
       " 'Mikhail Glinka',\n",
       " 'Antonio Soler',\n",
       " 'Johann Christian Fischer',\n",
       " 'Muzio Clementi',\n",
       " 'Orlando Gibbons',\n",
       " 'Nikolai Medtner',\n",
       " 'Vyacheslav Gryaznov']"
      ]
     },
     "execution_count": 24,
     "metadata": {},
     "output_type": "execute_result"
    }
   ],
   "source": [
    "composers_not_present = [entry for entry in composers_both_present if composers_both_present[entry] is None]\n",
    "print(f\"Number not found in composer file: {len(composers_not_present)}\")\n",
    "composers_not_present"
   ]
  },
  {
   "cell_type": "markdown",
   "metadata": {},
   "source": [
    "Some of these are surprising. For example Joseph Haydn is a very famous classical composer. Upon looking at the composers.json file, we can see that the names differ. Joseph Haydn is Joseph Franz Haydn in the composers.json file."
   ]
  },
  {
   "cell_type": "code",
   "execution_count": 25,
   "metadata": {},
   "outputs": [
    {
     "name": "stdout",
     "output_type": "stream",
     "text": [
      "{'Alfred Grünfeld': None,\n",
      " 'Antonio Soler': None,\n",
      " 'Egon Petri': None,\n",
      " 'Fritz Kreisler': None,\n",
      " 'György Cziffra': None,\n",
      " 'Johann Christian Fischer': None,\n",
      " 'Johann Strauss': {'birth': '1825-01-01',\n",
      "                    'complete_name': 'Johann Strauss Jr',\n",
      "                    'death': '1899-01-01',\n",
      "                    'epoch': 'Romantic',\n",
      "                    'id': '165',\n",
      "                    'name': 'Strauss Jr',\n",
      "                    'portrait': 'https://assets.openopus.org/portraits/93853123-1568084951.jpg'},\n",
      " 'Joseph Haydn': {'birth': '1732-01-01',\n",
      "                  'complete_name': 'Franz Joseph Haydn',\n",
      "                  'death': '1809-01-01',\n",
      "                  'epoch': 'Classical',\n",
      "                  'id': '208',\n",
      "                  'name': 'Haydn',\n",
      "                  'portrait': 'https://assets.openopus.org/portraits/21056059-1568084909.jpg'},\n",
      " 'Leopold Godowsky': None,\n",
      " 'Mikhail Glinka': {'birth': '1804-01-01',\n",
      "                    'complete_name': 'Mikhail Ivanovich Glinka',\n",
      "                    'death': '1857-01-01',\n",
      "                    'epoch': 'Romantic',\n",
      "                    'id': '156',\n",
      "                    'name': 'Glinka',\n",
      "                    'portrait': 'https://assets.openopus.org/portraits/16104178-1568084903.jpg'},\n",
      " 'Mikhail Pletnev': None,\n",
      " 'Moritz Moszkowski': None,\n",
      " 'Muzio Clementi': None,\n",
      " 'Myra Hess': None,\n",
      " 'Nikolai Medtner': None,\n",
      " 'Orlando Gibbons': None,\n",
      " 'Vladimir Horowitz': None,\n",
      " 'Vyacheslav Gryaznov': None}\n",
      "\n",
      "\n",
      "composers still not present: ['Alfred Grünfeld', 'Antonio Soler', 'Egon Petri', 'Fritz Kreisler', 'György Cziffra', 'Johann Christian Fischer', 'Leopold Godowsky', 'Mikhail Pletnev', 'Moritz Moszkowski', 'Muzio Clementi', 'Myra Hess', 'Nikolai Medtner', 'Orlando Gibbons', 'Vladimir Horowitz', 'Vyacheslav Gryaznov']\n"
     ]
    }
   ],
   "source": [
    "approximate_composer_matches = dict()\n",
    "for not_present in composers_not_present:\n",
    "    last_name = not_present.split()[-1]\n",
    "    comp_entry = [entry for entry in composers if last_name in entry['complete_name']]\n",
    "    comp_entry = comp_entry[0] if len(comp_entry) > 0 else None\n",
    "    approximate_composer_matches[not_present] = comp_entry\n",
    "pprint.pprint(approximate_composer_matches)\n",
    "print('\\n')\n",
    "print(f'composers still not present: {sorted([comp_name for comp_name, entry in approximate_composer_matches.items() if entry is None])}')"
   ]
  },
  {
   "cell_type": "markdown",
   "metadata": {},
   "source": [
    "At the end of it all, there's still some missing composers, which we'll just label as 'Other.'"
   ]
  },
  {
   "cell_type": "markdown",
   "metadata": {},
   "source": [
    "Let's also see some more metrics about composer **last names** in the `composers.json` file."
   ]
  },
  {
   "cell_type": "code",
   "execution_count": 26,
   "metadata": {},
   "outputs": [
    {
     "name": "stdout",
     "output_type": "stream",
     "text": [
      "All unique last names: True\n",
      "All last names single word: False\n"
     ]
    }
   ],
   "source": [
    "unique_composers_in_json = set(comp['name'] for comp in composers)\n",
    "all_lastnames_single_word = all(len(comp['name'].split()) == 0 for comp in composers)\n",
    "print(f'All unique last names: {len(unique_composers_in_json) == len(composers)}')\n",
    "print(f'All last names single word: {all_lastnames_single_word}')"
   ]
  },
  {
   "cell_type": "markdown",
   "metadata": {},
   "source": [
    "Which last names aren't a single word?"
   ]
  },
  {
   "cell_type": "code",
   "execution_count": 27,
   "metadata": {},
   "outputs": [
    {
     "name": "stdout",
     "output_type": "stream",
     "text": [
      "last names not single word: ['Marcello, A.', 'Scarlatti, A.', 'Bach, C.P.E.', 'Bach, J.C.', 'Strauss Jr', 'Vaughan Williams', 'Braga Santos', 'Camargo Guarnieri']\n"
     ]
    }
   ],
   "source": [
    "lastnames_multi_words = [comp['name'] for comp in composers if comp['name'].count(' ') != 0]\n",
    "print(f'last names not single word: {lastnames_multi_words}')"
   ]
  },
  {
   "cell_type": "markdown",
   "metadata": {},
   "source": [
    "## Test playback"
   ]
  },
  {
   "cell_type": "code",
   "execution_count": 31,
   "metadata": {},
   "outputs": [],
   "source": [
    "# Test playback original\n",
    "play_midi()"
   ]
  },
  {
   "cell_type": "code",
   "execution_count": 32,
   "metadata": {},
   "outputs": [],
   "source": [
    "# Test playback quantized\n",
    "play_midi('schumann.midi')"
   ]
  }
 ],
 "metadata": {
  "kernelspec": {
   "display_name": "bard",
   "language": "python",
   "name": "bard"
  },
  "language_info": {
   "codemirror_mode": {
    "name": "ipython",
    "version": 3
   },
   "file_extension": ".py",
   "mimetype": "text/x-python",
   "name": "python",
   "nbconvert_exporter": "python",
   "pygments_lexer": "ipython3",
   "version": "3.8.6"
  }
 },
 "nbformat": 4,
 "nbformat_minor": 4
}
