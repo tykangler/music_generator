{
 "cells": [
  {
   "cell_type": "markdown",
   "metadata": {},
   "source": [
    "# Generating music"
   ]
  },
  {
   "cell_type": "markdown",
   "metadata": {},
   "source": [
    "To generate music, I will use the **transformer** model, used by OpenAI in their GPT-2 model. In prior iterations, I had considered using RNNs with the seq2seq model. But after further research, I discovered that the transformer model can achieve better performance and accuracy, with the added benefit of parallelization, albeit at the cost of memory. "
   ]
  },
  {
   "cell_type": "code",
   "execution_count": 96,
   "metadata": {},
   "outputs": [],
   "source": [
    "import mido\n",
    "import os\n",
    "import math\n",
    "import csv\n",
    "import matplotlib.pyplot as plt\n",
    "from itertools import chain, islice\n",
    "from functools import cmp_to_key\n",
    "from copy import deepcopy\n",
    "from fractions import Fraction\n",
    "import json\n",
    "import pprint\n",
    "import numpy as np"
   ]
  },
  {
   "cell_type": "markdown",
   "metadata": {},
   "source": [
    "## Data Preparation"
   ]
  },
  {
   "cell_type": "code",
   "execution_count": 2,
   "metadata": {},
   "outputs": [],
   "source": [
    "DATA_DIR = '../../data'"
   ]
  },
  {
   "cell_type": "code",
   "execution_count": 3,
   "metadata": {},
   "outputs": [],
   "source": [
    "def get_pitch(note: int):\n",
    "    notes = ['C', 'C#', 'D', 'D#', 'E', 'F', 'F#', 'G', 'G#', 'A', 'A#', 'B']\n",
    "    return f\"{notes[note % 12]}{note // 12 - 1}\""
   ]
  },
  {
   "cell_type": "markdown",
   "metadata": {},
   "source": [
    "The Test Score: <br>\n",
    "<img height=800 width=600 src=\"https://imslp.org/images/8/8b/TN-Schumann%2C_Robert_Werke_Breitkopf_Gregg_Serie_7_Band_2_RS_51_Op_13_scan.jpg\"></img> <br>\n",
    "Robert Schumann,Symphonic Etudes Op. 13 (with Posthumous variations)\n"
   ]
  },
  {
   "cell_type": "code",
   "execution_count": 4,
   "metadata": {},
   "outputs": [],
   "source": [
    "# define function to play music\n",
    "TEST_FILE = f'{DATA_DIR}/maestro-v3.0.0/2018/MIDI-Unprocessed_Recital20_MID--AUDIO_20_R1_2018_wav--4.midi'\n",
    "def play_midi(file_name=TEST_FILE):\n",
    "    os.startfile(os.path.abspath(file_name))"
   ]
  },
  {
   "cell_type": "code",
   "execution_count": 5,
   "metadata": {},
   "outputs": [],
   "source": [
    "is_note_on = lambda msg: msg.type == 'note_on' and msg.velocity > 0\n",
    "is_note_off = lambda msg: (msg.type == 'note_on' and msg.velocity == 0) or msg.type == 'note_off'"
   ]
  },
  {
   "cell_type": "code",
   "execution_count": 6,
   "metadata": {},
   "outputs": [],
   "source": [
    "# make sure to iterate over tracks for correct deltatime value (ticks), otherwise deltatime is seconds. This is also faster.\n",
    "def print_messages(track, limit: int=0, *, transnote=None, transvelocity=None, transtime=None):\n",
    "    transnote = transnote or (lambda note: note) \n",
    "    transvelocity = transvelocity or (lambda velocity: velocity)\n",
    "    transtime = transtime or (lambda time: time)\n",
    "    track = islice(track, limit) if limit > 0 else track\n",
    "    for event in track:\n",
    "        if is_note_on(event):\n",
    "            note, velocity, time = transnote(event.note), transvelocity(event.velocity), transtime(event.time)\n",
    "            print(f'note_on channel={event.channel} note={note} velocity={velocity} time={time}')\n",
    "        elif is_note_off(event):\n",
    "            note, velocity, time = transnote(event.note), transvelocity(event.velocity), transtime(event.time)\n",
    "            print(f'note_off channel={event.channel} note={note} time={time}')\n",
    "        else:\n",
    "            print(event)"
   ]
  },
  {
   "cell_type": "code",
   "execution_count": 7,
   "metadata": {},
   "outputs": [
    {
     "name": "stdout",
     "output_type": "stream",
     "text": [
      "<meta message track_name name='contestant 20' time=0>\n",
      "program_change channel=0 program=0 time=0\n",
      "control_change channel=0 control=64 value=127 time=0\n",
      "control_change channel=0 control=67 value=0 time=0\n",
      "note_on channel=0 note=73 velocity=64 time=775\n",
      "note_on channel=0 note=64 velocity=41 time=41\n",
      "note_on channel=0 note=68 velocity=46 time=4\n",
      "note_on channel=0 note=37 velocity=39 time=8\n",
      "note_on channel=0 note=61 velocity=35 time=9\n",
      "note_on channel=0 note=44 velocity=30 time=8\n",
      "note_on channel=0 note=73 velocity=0 time=222\n",
      "note_on channel=0 note=68 velocity=0 time=45\n",
      "note_on channel=0 note=64 velocity=0 time=31\n",
      "note_on channel=0 note=61 velocity=0 time=113\n",
      "note_on channel=0 note=68 velocity=67 time=365\n",
      "note_on channel=0 note=56 velocity=45 time=28\n",
      "note_on channel=0 note=64 velocity=44 time=1\n",
      "note_on channel=0 note=61 velocity=44 time=14\n",
      "note_on channel=0 note=68 velocity=0 time=252\n",
      "note_on channel=0 note=64 velocity=0 time=50\n",
      "note_on channel=0 note=61 velocity=0 time=129\n",
      "note_on channel=0 note=56 velocity=0 time=112\n",
      "note_on channel=0 note=64 velocity=67 time=236\n",
      "note_on channel=0 note=52 velocity=46 time=32\n",
      "note_on channel=0 note=61 velocity=48 time=9\n",
      "note_on channel=0 note=56 velocity=36 time=2\n",
      "control_change channel=0 control=64 value=106 time=36\n",
      "control_change channel=0 control=64 value=92 time=15\n",
      "control_change channel=0 control=64 value=84 time=15\n",
      "control_change channel=0 control=64 value=81 time=16\n",
      "control_change channel=0 control=64 value=82 time=15\n",
      "control_change channel=0 control=64 value=84 time=15\n",
      "control_change channel=0 control=64 value=86 time=15\n",
      "control_change channel=0 control=64 value=91 time=15\n",
      "control_change channel=0 control=64 value=99 time=16\n",
      "control_change channel=0 control=64 value=111 time=15\n",
      "control_change channel=0 control=64 value=127 time=15\n",
      "note_on channel=0 note=64 velocity=0 time=132\n",
      "note_on channel=0 note=56 velocity=0 time=9\n",
      "note_on channel=0 note=61 velocity=0 time=56\n",
      "note_on channel=0 note=52 velocity=0 time=323\n",
      "note_on channel=0 note=61 velocity=66 time=108\n",
      "note_on channel=0 note=56 velocity=39 time=48\n",
      "note_on channel=0 note=52 velocity=36 time=6\n",
      "note_on channel=0 note=49 velocity=33 time=5\n",
      "note_on channel=0 note=44 velocity=0 time=91\n",
      "note_on channel=0 note=37 velocity=0 time=36\n",
      "note_on channel=0 note=49 velocity=0 time=48\n",
      "note_on channel=0 note=52 velocity=0 time=57\n",
      "note_on channel=0 note=56 velocity=0 time=54\n"
     ]
    }
   ],
   "source": [
    "schumann = mido.MidiFile(TEST_FILE)\n",
    "for event in islice(schumann.tracks[1], 50):\n",
    "    print(event)"
   ]
  },
  {
   "cell_type": "code",
   "execution_count": 8,
   "metadata": {},
   "outputs": [
    {
     "data": {
      "text/plain": [
       "384"
      ]
     },
     "execution_count": 8,
     "metadata": {},
     "output_type": "execute_result"
    }
   ],
   "source": [
    "schumann.ticks_per_beat"
   ]
  },
  {
   "cell_type": "code",
   "execution_count": 9,
   "metadata": {},
   "outputs": [
    {
     "name": "stdout",
     "output_type": "stream",
     "text": [
      "<meta message track_name name='contestant 20' time=0>\n",
      "program_change channel=0 program=0 time=0\n",
      "control_change channel=0 control=64 value=127 time=0\n",
      "control_change channel=0 control=67 value=0 time=0\n",
      "note_on channel=0 note=C#5 velocity=64 time=775\n",
      "note_on channel=0 note=E4 velocity=41 time=41\n",
      "note_on channel=0 note=G#4 velocity=46 time=4\n",
      "note_on channel=0 note=C#2 velocity=39 time=8\n",
      "note_on channel=0 note=C#4 velocity=35 time=9\n",
      "note_on channel=0 note=G#2 velocity=30 time=8\n",
      "note_off channel=0 note=C#5 time=222\n",
      "note_off channel=0 note=G#4 time=45\n",
      "note_off channel=0 note=E4 time=31\n",
      "note_off channel=0 note=C#4 time=113\n",
      "note_on channel=0 note=G#4 velocity=67 time=365\n",
      "note_on channel=0 note=G#3 velocity=45 time=28\n",
      "note_on channel=0 note=E4 velocity=44 time=1\n",
      "note_on channel=0 note=C#4 velocity=44 time=14\n",
      "note_off channel=0 note=G#4 time=252\n",
      "note_off channel=0 note=E4 time=50\n"
     ]
    }
   ],
   "source": [
    "print_messages(schumann.tracks[1], 20, transnote=get_pitch)"
   ]
  },
  {
   "cell_type": "markdown",
   "metadata": {},
   "source": [
    "### Converting Ticks to Beats\n",
    "\n",
    "Time attribute represents <deltatime\\>. <deltatime\\> is represented as number of ticks before playing the message. The number of ticks per beat is defined in the MThd chunk as <division\\>. (i.e. <division\\> = 96 means 96 ticks per beat). The number of microseconds per beat is defined as $500,000 \\frac{\\mu s}{beat}$, or can be set in the meta message 'set_tempo' in each track.\n",
    "\n",
    "So $time = 288$, $division = 384$, $tempo = 500,000$ equates to $\\frac{500,000}{384} * 288 = 375,000 \\mu s$\n",
    "\n",
    "This is the ticks between the first note_on (C#5) and the corresponding note off\n",
    "\n",
    "This is equivalent to .375 seconds, which is the deltatime value when using `midi.play()` or `iter(midi)`"
   ]
  },
  {
   "cell_type": "markdown",
   "metadata": {},
   "source": [
    "\n",
    "\n",
    " With $500,000 \\frac{\\mu s}{beat}$, BPM = 120. The denominator of the time signature tells what kind of note (quarter, eighth) is a beat. The numerator tells how many beats are in bar. With a time signature of 4/4, a beat is a quarter note. \n",
    "\n",
    "With $time = 288$, and $division = 384$, $288 \\ \\text{ticks} * \\frac{1}{384} \\frac{beat}{tick} = .75 \\ \\text{beats}$\n",
    "\n",
    "This is equal to $375,000 \\mu s * \\frac{1}{500000} \\frac{beat}{\\mu s} = .75 \\ \\text{beats}$.\n",
    "\n",
    "A time signature of 4 means $time = 288$ is .75 of a quarter note. However, from the image above, the first notes are quarter notes, not fractions of quarter notes, probably because the performance was played with a different BPM in mind (Andante, maybe 90), and not the one given in the midi file. \n"
   ]
  },
  {
   "cell_type": "markdown",
   "metadata": {},
   "source": [
    "### Quantization\n",
    "\n",
    "Quantize notes so that notes will have deltatime corrected to the nearest multiple of $\\epsilon$. A lower $\\epsilon$ means a higher frequency, but also more off-beats. A greater $\\epsilon$ means lower frequency, and more synchronization."
   ]
  },
  {
   "cell_type": "code",
   "execution_count": 10,
   "metadata": {},
   "outputs": [],
   "source": [
    "BEAT_RESOLUTION = 64\n",
    "BEAT = 4"
   ]
  },
  {
   "cell_type": "code",
   "execution_count": 11,
   "metadata": {},
   "outputs": [
    {
     "name": "stdout",
     "output_type": "stream",
     "text": [
      "<meta message track_name name='contestant 20' time=0>\n",
      "program_change channel=0 program=0 time=0\n",
      "control_change channel=0 control=64 value=127 time=0\n",
      "control_change channel=0 control=67 value=0 time=0\n",
      "note_on channel=0 note=C#5 velocity=64 time=768\n",
      "note_on channel=0 note=E4 velocity=41 time=48\n",
      "note_on channel=0 note=G#4 velocity=46 time=0\n",
      "note_on channel=0 note=C#2 velocity=39 time=0\n",
      "note_on channel=0 note=C#4 velocity=35 time=0\n",
      "note_on channel=0 note=G#2 velocity=30 time=0\n",
      "note_off channel=0 note=C#5 time=216\n",
      "note_off channel=0 note=G#4 time=48\n",
      "note_off channel=0 note=E4 time=24\n",
      "note_off channel=0 note=C#4 time=120\n",
      "note_on channel=0 note=G#4 velocity=67 time=360\n",
      "note_on channel=0 note=G#3 velocity=45 time=24\n",
      "note_on channel=0 note=E4 velocity=44 time=0\n",
      "note_on channel=0 note=C#4 velocity=44 time=24\n",
      "note_off channel=0 note=G#4 time=264\n",
      "note_off channel=0 note=E4 time=48\n"
     ]
    }
   ],
   "source": [
    "def nearest_tick(ticks, resolution):\n",
    "    temp = ticks + resolution // 2\n",
    "    return int(temp - temp % resolution)\n",
    "\n",
    "def quantize(track, resolution, ticks_per_beat, beat=4, limit: int=0):\n",
    "    tick_resolution = beat * ticks_per_beat / resolution\n",
    "    if limit > 0:\n",
    "        track = islice(track, limit)\n",
    "    return [msg.copy(time=nearest_tick(msg.time, tick_resolution)) \n",
    "            if msg.type == 'note_on' else msg.copy() \n",
    "            for msg in track]\n",
    "\n",
    "quantized = quantize(schumann.tracks[1], resolution=BEAT_RESOLUTION, beat=BEAT, ticks_per_beat=schumann.ticks_per_beat)\n",
    "print_messages(quantized, 20, transnote=get_pitch)"
   ]
  },
  {
   "cell_type": "code",
   "execution_count": 12,
   "metadata": {},
   "outputs": [],
   "source": [
    "schumann_copy = deepcopy(schumann)\n",
    "schumann_copy.tracks[1] = mido.MidiTrack(quantized)"
   ]
  },
  {
   "cell_type": "code",
   "execution_count": 13,
   "metadata": {},
   "outputs": [],
   "source": [
    "schumann_copy.save('schumann.midi')"
   ]
  },
  {
   "cell_type": "markdown",
   "metadata": {},
   "source": [
    "## Moving Away from Midi"
   ]
  },
  {
   "cell_type": "code",
   "execution_count": 14,
   "metadata": {},
   "outputs": [],
   "source": [
    "# class setup\n",
    "class Note:\n",
    "    def __init__(self, pitch, velocity, instrument='piano'):\n",
    "        self.pitch = pitch\n",
    "        self.velocity = velocity\n",
    "        self.instrument = instrument\n",
    "\n",
    "    def __str__(self):\n",
    "        return f\"{self.pitch}:{self.velocity}:{self.instrument}\"\n",
    "\n",
    "    def __repr__(self):\n",
    "        return f\"<Note pitch={self.pitch} velocity={self.velocity} instrument={self.instrument}>\"\n",
    "\n",
    "    def __eq__(self):\n",
    "        return self.pitch == other.pitch and self.velocity == other.velocity and self.instrument == other.instrument\n",
    "\n",
    "    def __hash__(self):\n",
    "        return hash((self.pitch, self.velocity, self.instrument))\n",
    "\n",
    "class Wait:\n",
    "    def __init__(self, beats):\n",
    "        self.beats = beats\n",
    "\n",
    "    def duration(self):\n",
    "        return self.beats\n",
    "    \n",
    "    def __str__(self):\n",
    "        return f\"wait:{self.beats}\"\n",
    "    \n",
    "    def __repr__(self):\n",
    "        return f\"<Wait {self.beats}>\"\n",
    "    \n",
    "    def __eq__(self, other):\n",
    "        return self.beats == other.beats\n",
    "\n",
    "    def __hash__(self):\n",
    "        return hash(self.beats)\n",
    "    "
   ]
  },
  {
   "cell_type": "markdown",
   "metadata": {},
   "source": [
    "### Converting to Notes"
   ]
  },
  {
   "cell_type": "code",
   "execution_count": 15,
   "metadata": {},
   "outputs": [],
   "source": [
    "def to_beats(track, tick_per_beat, limit=0):\n",
    "    if limit > 0:\n",
    "        track = islice(track, limit)\n",
    "    tick_to_beat = lambda tick, tick_per_beat: tick / tick_per_beat \n",
    "    return [(Wait(Fraction(tick_to_beat(msg.time, tick_per_beat)).numerator), Note(get_pitch(msg.note), msg.velocity))\n",
    "            for msg in track if msg.type == 'note_on']"
   ]
  },
  {
   "cell_type": "code",
   "execution_count": 16,
   "metadata": {},
   "outputs": [
    {
     "data": {
      "text/plain": [
       "[(<Wait 2>, <Note pitch=C#5 velocity=64 instrument=piano>),\n",
       " (<Wait 1>, <Note pitch=E4 velocity=41 instrument=piano>),\n",
       " (<Wait 0>, <Note pitch=G#4 velocity=46 instrument=piano>),\n",
       " (<Wait 0>, <Note pitch=C#2 velocity=39 instrument=piano>),\n",
       " (<Wait 0>, <Note pitch=C#4 velocity=35 instrument=piano>),\n",
       " (<Wait 0>, <Note pitch=G#2 velocity=30 instrument=piano>),\n",
       " (<Wait 9>, <Note pitch=C#5 velocity=0 instrument=piano>),\n",
       " (<Wait 1>, <Note pitch=G#4 velocity=0 instrument=piano>),\n",
       " (<Wait 1>, <Note pitch=E4 velocity=0 instrument=piano>),\n",
       " (<Wait 5>, <Note pitch=C#4 velocity=0 instrument=piano>),\n",
       " (<Wait 15>, <Note pitch=G#4 velocity=67 instrument=piano>),\n",
       " (<Wait 1>, <Note pitch=G#3 velocity=45 instrument=piano>),\n",
       " (<Wait 0>, <Note pitch=E4 velocity=44 instrument=piano>),\n",
       " (<Wait 1>, <Note pitch=C#4 velocity=44 instrument=piano>),\n",
       " (<Wait 11>, <Note pitch=G#4 velocity=0 instrument=piano>),\n",
       " (<Wait 1>, <Note pitch=E4 velocity=0 instrument=piano>),\n",
       " (<Wait 5>, <Note pitch=C#4 velocity=0 instrument=piano>),\n",
       " (<Wait 5>, <Note pitch=G#3 velocity=0 instrument=piano>),\n",
       " (<Wait 5>, <Note pitch=E4 velocity=67 instrument=piano>),\n",
       " (<Wait 1>, <Note pitch=E3 velocity=46 instrument=piano>),\n",
       " (<Wait 0>, <Note pitch=C#4 velocity=48 instrument=piano>),\n",
       " (<Wait 0>, <Note pitch=G#3 velocity=36 instrument=piano>),\n",
       " (<Wait 3>, <Note pitch=E4 velocity=0 instrument=piano>),\n",
       " (<Wait 0>, <Note pitch=G#3 velocity=0 instrument=piano>),\n",
       " (<Wait 1>, <Note pitch=C#4 velocity=0 instrument=piano>),\n",
       " (<Wait 13>, <Note pitch=E3 velocity=0 instrument=piano>),\n",
       " (<Wait 5>, <Note pitch=C#4 velocity=66 instrument=piano>),\n",
       " (<Wait 1>, <Note pitch=G#3 velocity=39 instrument=piano>),\n",
       " (<Wait 0>, <Note pitch=E3 velocity=36 instrument=piano>),\n",
       " (<Wait 0>, <Note pitch=C#3 velocity=33 instrument=piano>)]"
      ]
     },
     "execution_count": 16,
     "metadata": {},
     "output_type": "execute_result"
    }
   ],
   "source": [
    "schumann_seq = to_beats(schumann_copy.tracks[1], schumann_copy.ticks_per_beat)\n",
    "schumann_seq[:30]"
   ]
  },
  {
   "cell_type": "markdown",
   "metadata": {},
   "source": [
    "The last value in each tuple represents the number of beats for that note is played. Because notes were quantized with a 64th note resolution and beats set to quarter notes, each note will have a time that is some multiple of $\\frac{1}{16}$. \n",
    "\n",
    "> When quantizing, each tick value was adjusted so that $$\\text{ticks}' = x * \\frac{\\text{beat} * \\text{ticks_per_beat}}{\\text{resolution}}$$When converting to beats, $\\text{ticks}'$ is divided by ticks_per_beat. $$\\text{beats} = \\frac{\\text{ticks}'}{\\text{ticks_per_beat}} = x * \\frac{\\text{beat} * \\text{ticks_per_beat}}{\\text{resolution} * \\text{ticks_per_beat}} = x * \\frac{\\text{beat}}{\\text{resolution}}$$"
   ]
  },
  {
   "cell_type": "code",
   "execution_count": 17,
   "metadata": {},
   "outputs": [],
   "source": [
    "BEAT_BASE = BEAT / BEAT_RESOLUTION"
   ]
  },
  {
   "cell_type": "markdown",
   "metadata": {},
   "source": [
    "Using this approach, we will have 16 waits defined in the vocabulary (wait:[1-16]). Waits longer than 1 beat will be recorded as (wait:16, wait:n). However, a constant resolution needs to be set for all songs. Test quantizing a faster song."
   ]
  },
  {
   "cell_type": "markdown",
   "metadata": {},
   "source": [
    "### Quantizing faster songs"
   ]
  },
  {
   "cell_type": "code",
   "execution_count": 18,
   "metadata": {},
   "outputs": [
    {
     "name": "stdout",
     "output_type": "stream",
     "text": [
      "program_change channel=0 program=0 time=0\n",
      "control_change channel=0 control=64 value=80 time=0\n",
      "control_change channel=0 control=67 value=126 time=0\n",
      "control_change channel=0 control=64 value=78 time=896\n",
      "note_on channel=0 note=40 velocity=31 time=64\n",
      "control_change channel=0 control=64 value=80 time=7\n",
      "control_change channel=0 control=64 value=83 time=21\n",
      "control_change channel=0 control=64 value=86 time=17\n",
      "control_change channel=0 control=64 value=90 time=20\n",
      "control_change channel=0 control=64 value=98 time=39\n",
      "control_change channel=0 control=64 value=103 time=16\n",
      "control_change channel=0 control=64 value=108 time=21\n",
      "control_change channel=0 control=64 value=112 time=17\n",
      "control_change channel=0 control=64 value=118 time=37\n",
      "control_change channel=0 control=64 value=124 time=38\n",
      "note_off channel=0 note=40 time=40\n",
      "note_on channel=0 note=47 velocity=39 time=0\n",
      "note_off channel=0 note=47 time=101\n",
      "note_on channel=0 note=55 velocity=43 time=85\n",
      "note_off channel=0 note=55 time=94\n"
     ]
    }
   ],
   "source": [
    "TEST_FAST_FILE = f'{DATA_DIR}/maestro-v3.0.0/2004/MIDI-Unprocessed_XP_08_R1_2004_04-06_ORIG_MID--AUDIO_08_R1_2004_05_Track05_wav--2.midi'\n",
    "rachmaninoff = mido.MidiFile(TEST_FAST_FILE)\n",
    "print_messages(rachmaninoff.tracks[1], 20)"
   ]
  },
  {
   "cell_type": "code",
   "execution_count": 19,
   "metadata": {},
   "outputs": [
    {
     "name": "stdout",
     "output_type": "stream",
     "text": [
      "program_change channel=0 program=0 time=0\n",
      "control_change channel=0 control=64 value=80 time=0\n",
      "control_change channel=0 control=67 value=126 time=0\n",
      "control_change channel=0 control=64 value=78 time=896\n",
      "note_on channel=0 note=40 velocity=31 time=60\n",
      "control_change channel=0 control=64 value=80 time=7\n",
      "control_change channel=0 control=64 value=83 time=21\n",
      "control_change channel=0 control=64 value=86 time=17\n",
      "control_change channel=0 control=64 value=90 time=20\n",
      "control_change channel=0 control=64 value=98 time=39\n",
      "control_change channel=0 control=64 value=103 time=16\n",
      "control_change channel=0 control=64 value=108 time=21\n",
      "control_change channel=0 control=64 value=112 time=17\n",
      "control_change channel=0 control=64 value=118 time=37\n",
      "control_change channel=0 control=64 value=124 time=38\n",
      "note_off channel=0 note=40 time=30\n",
      "note_on channel=0 note=47 velocity=39 time=0\n",
      "note_off channel=0 note=47 time=90\n",
      "note_on channel=0 note=55 velocity=43 time=90\n",
      "note_off channel=0 note=55 time=90\n"
     ]
    }
   ],
   "source": [
    "rachmaninoff_copy = deepcopy(rachmaninoff)\n",
    "rachmaninoff_copy.tracks[1] = quantize(rachmaninoff_copy.tracks[1], 64, rachmaninoff_copy.ticks_per_beat)\n",
    "print_messages(rachmaninoff_copy.tracks[1], limit=20)"
   ]
  },
  {
   "cell_type": "code",
   "execution_count": 20,
   "metadata": {},
   "outputs": [],
   "source": [
    "rachmaninoff_copy.save('rachmaninoff.midi')"
   ]
  },
  {
   "cell_type": "code",
   "execution_count": 21,
   "metadata": {},
   "outputs": [
    {
     "data": {
      "text/plain": [
       "[(<Wait 1>, <Note pitch=E2 velocity=31 instrument=piano>),\n",
       " (<Wait 1>, <Note pitch=E2 velocity=0 instrument=piano>),\n",
       " (<Wait 0>, <Note pitch=B2 velocity=39 instrument=piano>),\n",
       " (<Wait 3>, <Note pitch=B2 velocity=0 instrument=piano>),\n",
       " (<Wait 3>, <Note pitch=G3 velocity=43 instrument=piano>),\n",
       " (<Wait 3>, <Note pitch=G3 velocity=0 instrument=piano>),\n",
       " (<Wait 1>, <Note pitch=F#3 velocity=38 instrument=piano>),\n",
       " (<Wait 1>, <Note pitch=F#3 velocity=0 instrument=piano>),\n",
       " (<Wait 1>, <Note pitch=G3 velocity=50 instrument=piano>),\n",
       " (<Wait 3>, <Note pitch=G3 velocity=0 instrument=piano>),\n",
       " (<Wait 1>, <Note pitch=E3 velocity=45 instrument=piano>),\n",
       " (<Wait 1>, <Note pitch=E3 velocity=0 instrument=piano>),\n",
       " (<Wait 1>, <Note pitch=G3 velocity=51 instrument=piano>),\n",
       " (<Wait 1>, <Note pitch=G3 velocity=0 instrument=piano>),\n",
       " (<Wait 0>, <Note pitch=E3 velocity=47 instrument=piano>),\n",
       " (<Wait 1>, <Note pitch=D#3 velocity=57 instrument=piano>),\n",
       " (<Wait 1>, <Note pitch=E3 velocity=0 instrument=piano>),\n",
       " (<Wait 1>, <Note pitch=G3 velocity=58 instrument=piano>),\n",
       " (<Wait 0>, <Note pitch=D#3 velocity=0 instrument=piano>),\n",
       " (<Wait 1>, <Note pitch=D#3 velocity=53 instrument=piano>),\n",
       " (<Wait 0>, <Note pitch=G3 velocity=0 instrument=piano>),\n",
       " (<Wait 3>, <Note pitch=D3 velocity=61 instrument=piano>),\n",
       " (<Wait 0>, <Note pitch=D#3 velocity=0 instrument=piano>),\n",
       " (<Wait 1>, <Note pitch=D3 velocity=0 instrument=piano>),\n",
       " (<Wait 1>, <Note pitch=E3 velocity=65 instrument=piano>),\n",
       " (<Wait 1>, <Note pitch=E3 velocity=0 instrument=piano>),\n",
       " (<Wait 0>, <Note pitch=D3 velocity=65 instrument=piano>),\n",
       " (<Wait 0>, <Note pitch=C#3 velocity=68 instrument=piano>),\n",
       " (<Wait 1>, <Note pitch=D3 velocity=0 instrument=piano>),\n",
       " (<Wait 1>, <Note pitch=C#3 velocity=0 instrument=piano>)]"
      ]
     },
     "execution_count": 21,
     "metadata": {},
     "output_type": "execute_result"
    }
   ],
   "source": [
    "to_beats(rachmaninoff_copy.tracks[1], rachmaninoff_copy.ticks_per_beat)[:30]"
   ]
  },
  {
   "cell_type": "markdown",
   "metadata": {},
   "source": [
    "Quantizing a faster song works fine. Quantization performance depends on the ticks per beat and the resolution. As long as ticks_per_beat is fairly small (so that tick_resolution is small), then overall resolution will be retained. In practice, we can scale down ticks_per_beat, and <set_tempo\\> by the same amount. Scaling both down will keep $\\frac{\\mu s}{tick}$ the same, so that the absolute timings of each message are the same."
   ]
  },
  {
   "cell_type": "markdown",
   "metadata": {},
   "source": [
    "### Inserting Waits"
   ]
  },
  {
   "cell_type": "code",
   "execution_count": 22,
   "metadata": {},
   "outputs": [],
   "source": [
    "def with_waits(beats_stream):\n",
    "    first = True\n",
    "    for wait, note in beats_stream:\n",
    "        if not first and wait.duration() != 0:\n",
    "            yield wait\n",
    "        first = False\n",
    "        yield note"
   ]
  },
  {
   "cell_type": "code",
   "execution_count": 23,
   "metadata": {},
   "outputs": [
    {
     "name": "stdout",
     "output_type": "stream",
     "text": [
      "C#5:64:piano\n",
      "wait:1\n",
      "E4:41:piano\n",
      "G#4:46:piano\n",
      "C#2:39:piano\n",
      "C#4:35:piano\n",
      "G#2:30:piano\n",
      "wait:9\n",
      "C#5:0:piano\n",
      "wait:1\n",
      "G#4:0:piano\n",
      "wait:1\n",
      "E4:0:piano\n",
      "wait:5\n",
      "C#4:0:piano\n",
      "wait:15\n",
      "G#4:67:piano\n",
      "wait:1\n",
      "G#3:45:piano\n",
      "E4:44:piano\n"
     ]
    }
   ],
   "source": [
    "for i in islice(with_waits(schumann_seq), 20):\n",
    "    print(i)"
   ]
  },
  {
   "cell_type": "markdown",
   "metadata": {},
   "source": [
    "## Vocabulary"
   ]
  },
  {
   "cell_type": "markdown",
   "metadata": {},
   "source": [
    "The full vocabulary will consist of 16 waits (or any power of 2 depending on what resolution I go with), and 128 notes, each with 32 volume levels, each with 6 instruments. A total size of 24,592.\n",
    "\n",
    "Volumes will be binned for less noise, and to account for variability in performances.\n",
    "\n",
    "For now I'll just stick with piano, so 88 notes (A0-C8), 32 volumes, 1 instrument, 16 waits. A total size of 2832. "
   ]
  },
  {
   "cell_type": "markdown",
   "metadata": {},
   "source": [
    "## Metadata + Features"
   ]
  },
  {
   "cell_type": "markdown",
   "metadata": {},
   "source": [
    "### Additional Features\n",
    "\n",
    "Aside from the vocabulary, I will train the model with the following features:\n",
    "\n",
    "- [x] composer\n",
    "- ~~key signature~~ (data not available)\n",
    "- [x] tempo\n",
    "- [x] time period/style\n"
   ]
  },
  {
   "cell_type": "code",
   "execution_count": 32,
   "metadata": {},
   "outputs": [],
   "source": [
    "with open(f'{DATA_DIR}/maestro-v3.0.0/maestro-v3.0.0.csv', encoding='utf-8') as csvfile:\n",
    "    reader = list(csv.DictReader(csvfile))"
   ]
  },
  {
   "cell_type": "code",
   "execution_count": 24,
   "metadata": {},
   "outputs": [],
   "source": [
    "with open(f'{DATA_DIR}/metadata/composers.json') as composer_file:\n",
    "    composers = json.load(composer_file)"
   ]
  },
  {
   "cell_type": "markdown",
   "metadata": {},
   "source": [
    "For composer searching, I will need to clean up the csv file to make sure that composer names match up with the names given in the composers file."
   ]
  },
  {
   "cell_type": "markdown",
   "metadata": {},
   "source": [
    "### Epoch"
   ]
  },
  {
   "cell_type": "code",
   "execution_count": 25,
   "metadata": {},
   "outputs": [],
   "source": [
    "def epoch(complete_name: str):\n",
    "    result = [composer for composer in composers if composer['complete_name'].lower() == complete_name.lower()]\n",
    "    if len(result) > 0:\n",
    "        return result[0]['epoch']\n",
    "    return None"
   ]
  },
  {
   "cell_type": "code",
   "execution_count": 26,
   "metadata": {},
   "outputs": [
    {
     "data": {
      "text/plain": [
       "'Late Romantic'"
      ]
     },
     "execution_count": 26,
     "metadata": {},
     "output_type": "execute_result"
    }
   ],
   "source": [
    "epoch('Leoš Janáček')"
   ]
  },
  {
   "cell_type": "markdown",
   "metadata": {},
   "source": [
    "### Tempo"
   ]
  },
  {
   "cell_type": "code",
   "execution_count": 81,
   "metadata": {},
   "outputs": [],
   "source": [
    "def time_per_msg(num_msgs, duration):\n",
    "    \"higher value means slower piece\"\n",
    "    return (duration / num_msgs) * 1000\n",
    "\n",
    "def get_duration(filename, csv_meta):\n",
    "    return float([row for row in csv_meta if row['midi_filename'] == filename][0]['duration'])\n",
    "\n",
    "def get_midi_filename(abs_filename):\n",
    "    year = os.path.basename(os.path.dirname(abs_filename))\n",
    "    return os.path.join(year, os.path.basename(abs_filename)).replace(os.path.sep, '/')"
   ]
  },
  {
   "cell_type": "code",
   "execution_count": 82,
   "metadata": {},
   "outputs": [
    {
     "data": {
      "text/plain": [
       "8000"
      ]
     },
     "metadata": {},
     "output_type": "display_data"
    },
    {
     "data": {
      "text/plain": [
       "108940"
      ]
     },
     "metadata": {},
     "output_type": "display_data"
    },
    {
     "name": "stdout",
     "output_type": "stream",
     "text": [
      "\n",
      "\n"
     ]
    },
    {
     "data": {
      "text/plain": [
       "158.014182992"
      ]
     },
     "metadata": {},
     "output_type": "display_data"
    },
    {
     "data": {
      "text/plain": [
       "2096.39614078"
      ]
     },
     "metadata": {},
     "output_type": "display_data"
    },
    {
     "name": "stdout",
     "output_type": "stream",
     "text": [
      "\n",
      "\n"
     ]
    },
    {
     "data": {
      "text/plain": [
       "19.751772874"
      ]
     },
     "metadata": {},
     "output_type": "display_data"
    },
    {
     "data": {
      "text/plain": [
       "19.243584916284195"
      ]
     },
     "metadata": {},
     "output_type": "display_data"
    }
   ],
   "source": [
    "rachmaninoff_abs_filename = os.path.abspath(TEST_FAST_FILE)\n",
    "schumann_abs_filename = os.path.abspath(TEST_FILE)\n",
    "\n",
    "rachmaninoff_duration = get_duration(get_midi_filename(rachmaninoff_abs_filename), reader)\n",
    "schumann_duration = get_duration(get_midi_filename(schumann_abs_filename), reader)\n",
    "\n",
    "rachmaninoff_msgs_per_time = time_per_msg(len(rachmaninoff.tracks[1]), rachmaninoff_duration)\n",
    "schumann_msgs_per_time = time_per_msg(len(schumann.tracks[1]), schumann_duration)\n",
    "\n",
    "display(len(rachmaninoff.tracks[1]), len(schumann.tracks[1]))\n",
    "print('\\n')\n",
    "display(rachmaninoff_duration, schumann_duration)\n",
    "print('\\n')\n",
    "display(rachmaninoff_msgs_per_time, schumann_msgs_per_time)"
   ]
  },
  {
   "cell_type": "code",
   "execution_count": 84,
   "metadata": {},
   "outputs": [
    {
     "data": {
      "text/plain": [
       "'Chopin time per msg: 35.08185609381383'"
      ]
     },
     "execution_count": 84,
     "metadata": {},
     "output_type": "execute_result"
    }
   ],
   "source": [
    "# An example with Chopin nocturne\n",
    "TEST_CHOPIN = '2015/MIDI-Unprocessed_R1_D1-9-12_mid--AUDIO-from_mp3_12_R1_2015_wav--3.midi'\n",
    "chopin_duration = get_duration(TEST_CHOPIN, reader)\n",
    "chopin_time_per_msg = time_per_msg(len(mido.MidiFile(f'{DATA_DIR}/maestro-v3.0.0/{TEST_CHOPIN}').tracks[1]), chopin_duration)\n",
    "f'Chopin time per msg: {chopin_time_per_msg}'"
   ]
  },
  {
   "cell_type": "code",
   "execution_count": 99,
   "metadata": {},
   "outputs": [],
   "source": [
    "# Distribution\n",
    "years = [2004, 2006, 2008, 2009, 2011, 2013, 2014, 2015, 2017, 2018]\n",
    "\n",
    "def get_midi_files():\n",
    "    for year in years:\n",
    "        yield from (get_midi_filename(os.path.abspath(entry.path)) for entry in os.scandir(f'{DATA_DIR}/maestro-v3.0.0/{year}'))\n",
    "\n",
    "abs_midi_files = (f'{DATA_DIR}/maestro-v3.0.0/{filepath}' for filepath in get_midi_files())\n",
    "midi_objs = (mido.MidiFile(abs_path) for abs_path in abs_midi_files)\n",
    "zipped_obj_filenames = zip(midi_objs, get_midi_files())\n",
    "all_time_per_msg = [time_per_msg(len(obj.tracks[1]), get_duration(path, reader)) for obj, path in zipped_obj_filenames]"
   ]
  },
  {
   "cell_type": "code",
   "execution_count": 98,
   "metadata": {},
   "outputs": [
    {
     "data": {
      "text/plain": [
       "(array([[10.,  0.,  0.,  0.,  0.,  0.,  0.,  0.,  0.,  0.],\n",
       "        [ 0.,  1.,  1.,  2.,  1.,  1.,  1.,  1.,  1.,  2.]]),\n",
       " array([8.99025867e-05, 1.00408274e+01, 2.00815650e+01, 3.01223025e+01,\n",
       "        4.01630401e+01, 5.02037776e+01, 6.02445151e+01, 7.02852527e+01,\n",
       "        8.03259902e+01, 9.03667277e+01, 1.00407465e+02]),\n",
       " <a list of 2 BarContainer objects>)"
      ]
     },
     "execution_count": 98,
     "metadata": {},
     "output_type": "execute_result"
    },
    {
     "data": {
      "image/png": "[encoded data removed]",
      "text/plain": [
       "<Figure size 432x288 with 1 Axes>"
      ]
     },
     "metadata": {
      "needs_background": "light"
     },
     "output_type": "display_data"
    }
   ],
   "source": [
    "hist = np.histogram(all_time_per_msg, density=True, bins=10)\n",
    "plt.hist(hist)"
   ]
  },
  {
   "cell_type": "markdown",
   "metadata": {},
   "source": [
    "Because most of the tempos are piled around 0, it may just be noise. Remove from model."
   ]
  },
  {
   "cell_type": "markdown",
   "metadata": {},
   "source": [
    "### Composers"
   ]
  },
  {
   "cell_type": "code",
   "execution_count": 33,
   "metadata": {},
   "outputs": [
    {
     "data": {
      "text/plain": [
       "{'Alban Berg',\n",
       " 'Alexander Scriabin',\n",
       " 'Antonio Soler',\n",
       " 'Carl Maria von Weber',\n",
       " 'Charles Gounod / Franz Liszt',\n",
       " 'Claude Debussy',\n",
       " 'César Franck',\n",
       " 'Domenico Scarlatti',\n",
       " 'Edvard Grieg',\n",
       " 'Felix Mendelssohn',\n",
       " 'Felix Mendelssohn / Sergei Rachmaninoff',\n",
       " 'Franz Liszt',\n",
       " 'Franz Liszt / Camille Saint-Saëns',\n",
       " 'Franz Liszt / Vladimir Horowitz',\n",
       " 'Franz Schubert',\n",
       " 'Franz Schubert / Franz Liszt',\n",
       " 'Franz Schubert / Leopold Godowsky',\n",
       " 'Fritz Kreisler / Sergei Rachmaninoff',\n",
       " 'Frédéric Chopin',\n",
       " 'George Enescu',\n",
       " 'George Frideric Handel',\n",
       " 'Georges Bizet / Ferruccio Busoni',\n",
       " 'Georges Bizet / Moritz Moszkowski',\n",
       " 'Georges Bizet / Vladimir Horowitz',\n",
       " 'Giuseppe Verdi / Franz Liszt',\n",
       " 'Henry Purcell',\n",
       " 'Isaac Albéniz',\n",
       " 'Isaac Albéniz / Leopold Godowsky',\n",
       " 'Jean-Philippe Rameau',\n",
       " 'Johann Christian Fischer / Wolfgang Amadeus Mozart',\n",
       " 'Johann Pachelbel',\n",
       " 'Johann Sebastian Bach',\n",
       " 'Johann Sebastian Bach / Egon Petri',\n",
       " 'Johann Sebastian Bach / Ferruccio Busoni',\n",
       " 'Johann Sebastian Bach / Franz Liszt',\n",
       " 'Johann Sebastian Bach / Myra Hess',\n",
       " 'Johann Strauss / Alfred Grünfeld',\n",
       " 'Johannes Brahms',\n",
       " 'Joseph Haydn',\n",
       " 'Leoš Janáček',\n",
       " 'Ludwig van Beethoven',\n",
       " 'Mikhail Glinka / Mily Balakirev',\n",
       " 'Mily Balakirev',\n",
       " 'Modest Mussorgsky',\n",
       " 'Muzio Clementi',\n",
       " 'Niccolò Paganini / Franz Liszt',\n",
       " 'Nikolai Medtner',\n",
       " 'Nikolai Rimsky-Korsakov / Sergei Rachmaninoff',\n",
       " 'Orlando Gibbons',\n",
       " 'Percy Grainger',\n",
       " 'Pyotr Ilyich Tchaikovsky',\n",
       " 'Pyotr Ilyich Tchaikovsky / Mikhail Pletnev',\n",
       " 'Pyotr Ilyich Tchaikovsky / Sergei Rachmaninoff',\n",
       " 'Richard Wagner / Franz Liszt',\n",
       " 'Robert Schumann',\n",
       " 'Robert Schumann / Franz Liszt',\n",
       " 'Sergei Rachmaninoff',\n",
       " 'Sergei Rachmaninoff / György Cziffra',\n",
       " 'Sergei Rachmaninoff / Vyacheslav Gryaznov',\n",
       " 'Wolfgang Amadeus Mozart'}"
      ]
     },
     "execution_count": 33,
     "metadata": {},
     "output_type": "execute_result"
    }
   ],
   "source": [
    "# Unique Composers\n",
    "unique_composers = set()\n",
    "for row in reader:\n",
    "    unique_composers.add(row['canonical_composer'])\n",
    "unique_composers"
   ]
  },
  {
   "cell_type": "markdown",
   "metadata": {},
   "source": [
    "There is a possibility of multiple composers. When this happens, choose the more common composer."
   ]
  },
  {
   "cell_type": "markdown",
   "metadata": {},
   "source": [
    "### CSV and Composer Cross Reference"
   ]
  },
  {
   "cell_type": "code",
   "execution_count": 34,
   "metadata": {},
   "outputs": [
    {
     "name": "stdout",
     "output_type": "stream",
     "text": [
      "{'Alban Berg': {'birth': '1885-01-01',\n",
      "                'complete_name': 'Alban Berg',\n",
      "                'death': '1935-01-01',\n",
      "                'epoch': '20th Century',\n",
      "                'id': '210',\n",
      "                'name': 'Berg',\n",
      "                'portrait': 'https://assets.openopus.org/portraits/48656640-1568084861.jpg'},\n",
      " 'Alexander Scriabin': {'birth': '1872-01-01',\n",
      "                        'complete_name': 'Alexander Scriabin',\n",
      "                        'death': '1915-01-01',\n",
      "                        'epoch': 'Late Romantic',\n",
      "                        'id': '18',\n",
      "                        'name': 'Scriabin',\n",
      "                        'portrait': 'https://assets.openopus.org/portraits/33736318-1568084946.jpg'},\n",
      " 'Alfred Grünfeld': None,\n",
      " 'Antonio Soler': None,\n",
      " 'Camille Saint-Saëns': {'birth': '1835-01-01',\n",
      "                         'complete_name': 'Camille Saint-Saëns',\n",
      "                         'death': '1921-01-01',\n",
      "                         'epoch': 'Romantic',\n",
      "                         'id': '45',\n",
      "                         'name': 'Saint-Saëns',\n",
      "                         'portrait': 'https://assets.openopus.org/portraits/16186799-1568084942.jpg'},\n",
      " 'Carl Maria von Weber': {'birth': '1786-01-01',\n",
      "                          'complete_name': 'Carl Maria von Weber',\n",
      "                          'death': '1826-01-01',\n",
      "                          'epoch': 'Early Romantic',\n",
      "                          'id': '168',\n",
      "                          'name': 'Weber',\n",
      "                          'portrait': 'https://assets.openopus.org/portraits/17859492-1568084960.jpg'},\n",
      " 'Charles Gounod': {'birth': '1818-01-01',\n",
      "                    'complete_name': 'Charles Gounod',\n",
      "                    'death': '1893-01-01',\n",
      "                    'epoch': 'Romantic',\n",
      "                    'id': '29',\n",
      "                    'name': 'Gounod',\n",
      "                    'portrait': 'https://assets.openopus.org/portraits/65663945-1568084906.jpg'},\n",
      " 'Claude Debussy': {'birth': '1862-01-01',\n",
      "                    'complete_name': 'Claude Debussy',\n",
      "                    'death': '1918-01-01',\n",
      "                    'epoch': 'Late Romantic',\n",
      "                    'id': '105',\n",
      "                    'name': 'Debussy',\n",
      "                    'portrait': 'https://assets.openopus.org/portraits/58875477-1568084877.jpg'},\n",
      " 'César Franck': {'birth': '1822-01-01',\n",
      "                  'complete_name': 'César Franck',\n",
      "                  'death': '1890-01-01',\n",
      "                  'epoch': 'Romantic',\n",
      "                  'id': '12',\n",
      "                  'name': 'Franck',\n",
      "                  'portrait': 'https://assets.openopus.org/portraits/66473468-1568084890.jpg'},\n",
      " 'Domenico Scarlatti': {'birth': '1685-01-01',\n",
      "                        'complete_name': 'Domenico Scarlatti',\n",
      "                        'death': '1757-01-01',\n",
      "                        'epoch': 'Baroque',\n",
      "                        'id': '97',\n",
      "                        'name': 'Scarlatti',\n",
      "                        'portrait': 'https://assets.openopus.org/portraits/19391876-1568084943.jpg'},\n",
      " 'Edvard Grieg': {'birth': '1843-01-01',\n",
      "                  'complete_name': 'Edvard Grieg',\n",
      "                  'death': '1907-01-01',\n",
      "                  'epoch': 'Romantic',\n",
      "                  'id': '162',\n",
      "                  'name': 'Grieg',\n",
      "                  'portrait': 'https://assets.openopus.org/portraits/69318482-1568084907.jpg'},\n",
      " 'Egon Petri': None,\n",
      " 'Felix Mendelssohn': {'birth': '1809-01-01',\n",
      "                       'complete_name': 'Felix Mendelssohn',\n",
      "                       'death': '1847-01-01',\n",
      "                       'epoch': 'Romantic',\n",
      "                       'id': '147',\n",
      "                       'name': 'Mendelssohn',\n",
      "                       'portrait': 'https://assets.openopus.org/portraits/77325243-1568084923.jpg'},\n",
      " 'Ferruccio Busoni': {'birth': '1866-01-01',\n",
      "                      'complete_name': 'Ferruccio Busoni',\n",
      "                      'death': '1924-01-01',\n",
      "                      'epoch': 'Late Romantic',\n",
      "                      'id': '84',\n",
      "                      'name': 'Busoni',\n",
      "                      'portrait': 'https://assets.openopus.org/portraits/77100040-1568084868.jpg'},\n",
      " 'Franz Liszt': {'birth': '1811-01-01',\n",
      "                 'complete_name': 'Franz Liszt',\n",
      "                 'death': '1886-01-01',\n",
      "                 'epoch': 'Romantic',\n",
      "                 'id': '197',\n",
      "                 'name': 'Liszt',\n",
      "                 'portrait': 'https://assets.openopus.org/portraits/60368090-1568084919.jpg'},\n",
      " 'Franz Schubert': {'birth': '1797-01-01',\n",
      "                    'complete_name': 'Franz Schubert',\n",
      "                    'death': '1828-01-01',\n",
      "                    'epoch': 'Early Romantic',\n",
      "                    'id': '183',\n",
      "                    'name': 'Schubert',\n",
      "                    'portrait': 'https://assets.openopus.org/portraits/91122704-1568084944.jpg'},\n",
      " 'Fritz Kreisler': None,\n",
      " 'Frédéric Chopin': {'birth': '1810-01-01',\n",
      "                     'complete_name': 'Frédéric Chopin',\n",
      "                     'death': '1849-01-01',\n",
      "                     'epoch': 'Romantic',\n",
      "                     'id': '152',\n",
      "                     'name': 'Chopin',\n",
      "                     'portrait': 'https://assets.openopus.org/portraits/72753742-1568084874.jpg'},\n",
      " 'George Enescu': {'birth': '1881-01-01',\n",
      "                   'complete_name': 'George Enescu',\n",
      "                   'death': '1955-01-01',\n",
      "                   'epoch': 'Late Romantic',\n",
      "                   'id': '38',\n",
      "                   'name': 'Enescu',\n",
      "                   'portrait': 'https://assets.openopus.org/portraits/39372146-1568084888.jpg'},\n",
      " 'George Frideric Handel': {'birth': '1685-01-01',\n",
      "                            'complete_name': 'George Frideric Handel',\n",
      "                            'death': '1759-01-01',\n",
      "                            'epoch': 'Baroque',\n",
      "                            'id': '67',\n",
      "                            'name': 'Handel',\n",
      "                            'portrait': 'https://assets.openopus.org/portraits/59133744-1568084908.jpg'},\n",
      " 'Georges Bizet': {'birth': '1838-01-01',\n",
      "                   'complete_name': 'Georges Bizet',\n",
      "                   'death': '1875-01-01',\n",
      "                   'epoch': 'Romantic',\n",
      "                   'id': '68',\n",
      "                   'name': 'Bizet',\n",
      "                   'portrait': 'https://assets.openopus.org/portraits/90081680-1568084864.jpg'},\n",
      " 'Giuseppe Verdi': {'birth': '1813-01-01',\n",
      "                    'complete_name': 'Giuseppe Verdi',\n",
      "                    'death': '1901-01-01',\n",
      "                    'epoch': 'Romantic',\n",
      "                    'id': '35',\n",
      "                    'name': 'Verdi',\n",
      "                    'portrait': 'https://assets.openopus.org/portraits/20193752-1568084957.jpg'},\n",
      " 'György Cziffra': None,\n",
      " 'Henry Purcell': {'birth': '1659-01-01',\n",
      "                   'complete_name': 'Henry Purcell',\n",
      "                   'death': '1695-01-01',\n",
      "                   'epoch': 'Baroque',\n",
      "                   'id': '199',\n",
      "                   'name': 'Purcell',\n",
      "                   'portrait': 'https://assets.openopus.org/portraits/98518308-1568084936.jpg'},\n",
      " 'Isaac Albéniz': {'birth': '1860-01-01',\n",
      "                   'complete_name': 'Isaac Albéniz',\n",
      "                   'death': '1909-01-01',\n",
      "                   'epoch': 'Late Romantic',\n",
      "                   'id': '216',\n",
      "                   'name': 'Albéniz',\n",
      "                   'portrait': 'https://assets.openopus.org/portraits/34320620-1568084855.jpg'},\n",
      " 'Jean-Philippe Rameau': {'birth': '1683-01-01',\n",
      "                          'complete_name': 'Jean-Philippe Rameau',\n",
      "                          'death': '1764-01-01',\n",
      "                          'epoch': 'Baroque',\n",
      "                          'id': '178',\n",
      "                          'name': 'Rameau',\n",
      "                          'portrait': 'https://assets.openopus.org/portraits/82780595-1568084937.jpg'},\n",
      " 'Johann Christian Fischer': None,\n",
      " 'Johann Pachelbel': {'birth': '1653-01-01',\n",
      "                      'complete_name': 'Johann Pachelbel',\n",
      "                      'death': '1706-01-01',\n",
      "                      'epoch': 'Baroque',\n",
      "                      'id': '115',\n",
      "                      'name': 'Pachelbel',\n",
      "                      'portrait': 'https://assets.openopus.org/portraits/56262073-1568084928.jpg'},\n",
      " 'Johann Sebastian Bach': {'birth': '1685-01-01',\n",
      "                           'complete_name': 'Johann Sebastian Bach',\n",
      "                           'death': '1750-01-01',\n",
      "                           'epoch': 'Baroque',\n",
      "                           'id': '87',\n",
      "                           'name': 'Bach',\n",
      "                           'portrait': 'https://assets.openopus.org/portraits/12091447-1568084857.jpg'},\n",
      " 'Johann Strauss': None,\n",
      " 'Johannes Brahms': {'birth': '1833-01-01',\n",
      "                     'complete_name': 'Johannes Brahms',\n",
      "                     'death': '1897-01-01',\n",
      "                     'epoch': 'Romantic',\n",
      "                     'id': '80',\n",
      "                     'name': 'Brahms',\n",
      "                     'portrait': 'https://assets.openopus.org/portraits/46443632-1568084867.jpg'},\n",
      " 'Joseph Haydn': None,\n",
      " 'Leopold Godowsky': None,\n",
      " 'Leoš Janáček': {'birth': '1854-01-01',\n",
      "                  'complete_name': 'Leoš Janáček',\n",
      "                  'death': '1928-01-01',\n",
      "                  'epoch': 'Late Romantic',\n",
      "                  'id': '96',\n",
      "                  'name': 'Janacek',\n",
      "                  'portrait': 'https://assets.openopus.org/portraits/46281538-1568084914.jpg'},\n",
      " 'Ludwig van Beethoven': {'birth': '1770-01-01',\n",
      "                          'complete_name': 'Ludwig van Beethoven',\n",
      "                          'death': '1827-01-01',\n",
      "                          'epoch': 'Early Romantic',\n",
      "                          'id': '145',\n",
      "                          'name': 'Beethoven',\n",
      "                          'portrait': 'https://assets.openopus.org/portraits/55910756-1568084860.jpg'},\n",
      " 'Mikhail Glinka': None,\n",
      " 'Mikhail Pletnev': None,\n",
      " 'Mily Balakirev': {'birth': '1837-01-01',\n",
      "                    'complete_name': 'Mily Balakirev',\n",
      "                    'death': '1910-01-01',\n",
      "                    'epoch': 'Romantic',\n",
      "                    'id': '21',\n",
      "                    'name': 'Balakirev',\n",
      "                    'portrait': 'https://assets.openopus.org/portraits/65101311-1568084859.jpg'},\n",
      " 'Modest Mussorgsky': {'birth': '1839-01-01',\n",
      "                       'complete_name': 'Modest Mussorgsky',\n",
      "                       'death': '1881-01-01',\n",
      "                       'epoch': 'Romantic',\n",
      "                       'id': '181',\n",
      "                       'name': 'Mussorgsky',\n",
      "                       'portrait': 'https://assets.openopus.org/portraits/94856316-1568084926.jpg'},\n",
      " 'Moritz Moszkowski': None,\n",
      " 'Muzio Clementi': None,\n",
      " 'Myra Hess': None,\n",
      " 'Niccolò Paganini': {'birth': '1782-01-01',\n",
      "                      'complete_name': 'Niccolò Paganini',\n",
      "                      'death': '1840-01-01',\n",
      "                      'epoch': 'Early Romantic',\n",
      "                      'id': '3',\n",
      "                      'name': 'Paganini',\n",
      "                      'portrait': 'https://assets.openopus.org/portraits/66903104-1568084929.jpg'},\n",
      " 'Nikolai Medtner': None,\n",
      " 'Nikolai Rimsky-Korsakov': {'birth': '1844-01-01',\n",
      "                             'complete_name': 'Nikolai Rimsky-Korsakov',\n",
      "                             'death': '1908-01-01',\n",
      "                             'epoch': 'Romantic',\n",
      "                             'id': '118',\n",
      "                             'name': 'Rimsky-Korsakov',\n",
      "                             'portrait': 'https://assets.openopus.org/portraits/93378408-1568084939.jpg'},\n",
      " 'Orlando Gibbons': None,\n",
      " 'Percy Grainger': {'birth': '1882-01-01',\n",
      "                    'complete_name': 'Percy Grainger',\n",
      "                    'death': '1961-01-01',\n",
      "                    'epoch': '20th Century',\n",
      "                    'id': '99',\n",
      "                    'name': 'Grainger',\n",
      "                    'portrait': 'https://assets.openopus.org/portraits/85386360-1568084906.jpg'},\n",
      " 'Pyotr Ilyich Tchaikovsky': {'birth': '1840-01-01',\n",
      "                              'complete_name': 'Pyotr Ilyich Tchaikovsky',\n",
      "                              'death': '1893-01-01',\n",
      "                              'epoch': 'Romantic',\n",
      "                              'id': '79',\n",
      "                              'name': 'Tchaikovsky',\n",
      "                              'portrait': 'https://assets.openopus.org/portraits/32941433-1568084956.jpg'},\n",
      " 'Richard Wagner': {'birth': '1813-01-01',\n",
      "                    'complete_name': 'Richard Wagner',\n",
      "                    'death': '1883-01-01',\n",
      "                    'epoch': 'Romantic',\n",
      "                    'id': '138',\n",
      "                    'name': 'Wagner',\n",
      "                    'portrait': 'https://assets.openopus.org/portraits/39267138-1568084959.jpg'},\n",
      " 'Robert Schumann': {'birth': '1810-01-01',\n",
      "                     'complete_name': 'Robert Schumann',\n",
      "                     'death': '1856-01-01',\n",
      "                     'epoch': 'Romantic',\n",
      "                     'id': '129',\n",
      "                     'name': 'Schumann',\n",
      "                     'portrait': 'https://assets.openopus.org/portraits/25233320-1568084946.jpg'},\n",
      " 'Sergei Rachmaninoff': {'birth': '1873-01-01',\n",
      "                         'complete_name': 'Sergei Rachmaninoff',\n",
      "                         'death': '1943-01-01',\n",
      "                         'epoch': 'Late Romantic',\n",
      "                         'id': '188',\n",
      "                         'name': 'Rachmaninoff',\n",
      "                         'portrait': 'https://assets.openopus.org/portraits/85784913-1568084937.jpg'},\n",
      " 'Vladimir Horowitz': None,\n",
      " 'Vyacheslav Gryaznov': None,\n",
      " 'Wolfgang Amadeus Mozart': {'birth': '1756-01-01',\n",
      "                             'complete_name': 'Wolfgang Amadeus Mozart',\n",
      "                             'death': '1791-01-01',\n",
      "                             'epoch': 'Classical',\n",
      "                             'id': '196',\n",
      "                             'name': 'Mozart',\n",
      "                             'portrait': 'https://assets.openopus.org/portraits/21459195-1568084925.jpg'}}\n"
     ]
    }
   ],
   "source": [
    "composers_both_present = dict()\n",
    "for u_composer in unique_composers:\n",
    "    split_composers = u_composer.split(' / ')\n",
    "    for comp_name in split_composers:\n",
    "        comp_entry = [entry for entry in composers if entry['complete_name'] == comp_name]\n",
    "        comp_entry = comp_entry[0] if len(comp_entry) > 0 else None\n",
    "        composers_both_present[comp_name] = comp_entry\n",
    "pprint.pprint(composers_both_present)"
   ]
  },
  {
   "cell_type": "code",
   "execution_count": 35,
   "metadata": {},
   "outputs": [
    {
     "name": "stdout",
     "output_type": "stream",
     "text": [
      "Number not found in composer file: 18\n"
     ]
    },
    {
     "data": {
      "text/plain": [
       "['Leopold Godowsky',\n",
       " 'Johann Christian Fischer',\n",
       " 'Orlando Gibbons',\n",
       " 'Myra Hess',\n",
       " 'Johann Strauss',\n",
       " 'Alfred Grünfeld',\n",
       " 'Muzio Clementi',\n",
       " 'Mikhail Glinka',\n",
       " 'Joseph Haydn',\n",
       " 'Vladimir Horowitz',\n",
       " 'Vyacheslav Gryaznov',\n",
       " 'Nikolai Medtner',\n",
       " 'Mikhail Pletnev',\n",
       " 'Moritz Moszkowski',\n",
       " 'Fritz Kreisler',\n",
       " 'Egon Petri',\n",
       " 'György Cziffra',\n",
       " 'Antonio Soler']"
      ]
     },
     "execution_count": 35,
     "metadata": {},
     "output_type": "execute_result"
    }
   ],
   "source": [
    "composers_not_present = [entry for entry in composers_both_present if composers_both_present[entry] is None]\n",
    "print(f\"Number not found in composer file: {len(composers_not_present)}\")\n",
    "composers_not_present"
   ]
  },
  {
   "cell_type": "markdown",
   "metadata": {},
   "source": [
    "Some of these are surprising. For example Joseph Haydn is a very famous classical composer. Upon looking at the composers.json file, we can see that the names differ. Joseph Haydn is Joseph Franz Haydn in the composers.json file."
   ]
  },
  {
   "cell_type": "code",
   "execution_count": 36,
   "metadata": {},
   "outputs": [
    {
     "name": "stdout",
     "output_type": "stream",
     "text": [
      "{'Alfred Grünfeld': None,\n",
      " 'Antonio Soler': None,\n",
      " 'Egon Petri': None,\n",
      " 'Fritz Kreisler': None,\n",
      " 'György Cziffra': None,\n",
      " 'Johann Christian Fischer': None,\n",
      " 'Johann Strauss': {'birth': '1825-01-01',\n",
      "                    'complete_name': 'Johann Strauss Jr',\n",
      "                    'death': '1899-01-01',\n",
      "                    'epoch': 'Romantic',\n",
      "                    'id': '165',\n",
      "                    'name': 'Strauss Jr',\n",
      "                    'portrait': 'https://assets.openopus.org/portraits/93853123-1568084951.jpg'},\n",
      " 'Joseph Haydn': {'birth': '1732-01-01',\n",
      "                  'complete_name': 'Franz Joseph Haydn',\n",
      "                  'death': '1809-01-01',\n",
      "                  'epoch': 'Classical',\n",
      "                  'id': '208',\n",
      "                  'name': 'Haydn',\n",
      "                  'portrait': 'https://assets.openopus.org/portraits/21056059-1568084909.jpg'},\n",
      " 'Leopold Godowsky': None,\n",
      " 'Mikhail Glinka': {'birth': '1804-01-01',\n",
      "                    'complete_name': 'Mikhail Ivanovich Glinka',\n",
      "                    'death': '1857-01-01',\n",
      "                    'epoch': 'Romantic',\n",
      "                    'id': '156',\n",
      "                    'name': 'Glinka',\n",
      "                    'portrait': 'https://assets.openopus.org/portraits/16104178-1568084903.jpg'},\n",
      " 'Mikhail Pletnev': None,\n",
      " 'Moritz Moszkowski': None,\n",
      " 'Muzio Clementi': None,\n",
      " 'Myra Hess': None,\n",
      " 'Nikolai Medtner': None,\n",
      " 'Orlando Gibbons': None,\n",
      " 'Vladimir Horowitz': None,\n",
      " 'Vyacheslav Gryaznov': None}\n"
     ]
    }
   ],
   "source": [
    "approximate_composer_matches = dict()\n",
    "for not_present in composers_not_present:\n",
    "    last_name = not_present.split()[-1]\n",
    "    comp_entry = [entry for entry in composers if last_name in entry['complete_name']]\n",
    "    comp_entry = comp_entry[0] if len(comp_entry) > 0 else None\n",
    "    approximate_composer_matches[not_present] = comp_entry\n",
    "pprint.pprint(approximate_composer_matches)"
   ]
  },
  {
   "cell_type": "markdown",
   "metadata": {},
   "source": [
    "At the end of it all, there's still some missing composers, which we'll just label as 'Other.'"
   ]
  },
  {
   "cell_type": "markdown",
   "metadata": {},
   "source": [
    "## Test playback"
   ]
  },
  {
   "cell_type": "code",
   "execution_count": 37,
   "metadata": {},
   "outputs": [],
   "source": [
    "# Test playback original\n",
    "play_midi()"
   ]
  },
  {
   "cell_type": "code",
   "execution_count": 38,
   "metadata": {},
   "outputs": [],
   "source": [
    "# Test playback quantized\n",
    "play_midi('schumann.midi')"
   ]
  },
  {
   "cell_type": "code",
   "execution_count": 39,
   "metadata": {},
   "outputs": [],
   "source": [
    "# Test playback original (fast)\n",
    "play_midi(TEST_FAST_FILE)"
   ]
  },
  {
   "cell_type": "code",
   "execution_count": 40,
   "metadata": {},
   "outputs": [],
   "source": [
    "# Test playback quantized (fast)\n",
    "play_midi('rachmaninoff.midi')"
   ]
  }
 ],
 "metadata": {
  "kernelspec": {
   "display_name": "bard",
   "language": "python",
   "name": "bard"
  },
  "language_info": {
   "codemirror_mode": {
    "name": "ipython",
    "version": 3
   },
   "file_extension": ".py",
   "mimetype": "text/x-python",
   "name": "python",
   "nbconvert_exporter": "python",
   "pygments_lexer": "ipython3",
   "version": "3.8.6"
  }
 },
 "nbformat": 4,
 "nbformat_minor": 4
}
